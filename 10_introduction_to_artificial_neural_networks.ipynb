{
 "cells": [
  {
   "cell_type": "code",
   "execution_count": 1,
   "metadata": {
    "collapsed": true
   },
   "outputs": [],
   "source": [
    "# To support both python 2 and python 3\n",
    "from __future__ import division, print_function, unicode_literals\n",
    "\n",
    "# Common imports\n",
    "import numpy as np\n",
    "import os\n",
    "\n",
    "# to make this notebook's output stable across runs\n",
    "def reset_graph(seed=42):\n",
    "    tf.reset_default_graph()\n",
    "    tf.set_random_seed(seed)\n",
    "    np.random.seed(seed)\n",
    "\n",
    "# To plot pretty figures\n",
    "%matplotlib inline\n",
    "import matplotlib\n",
    "import matplotlib.pyplot as plt\n",
    "plt.rcParams['axes.labelsize'] = 14\n",
    "plt.rcParams['xtick.labelsize'] = 12\n",
    "plt.rcParams['ytick.labelsize'] = 12\n",
    "\n",
    "# Where to save the figures\n",
    "PROJECT_ROOT_DIR = \".\"\n",
    "CHAPTER_ID = \"ann\"\n",
    "\n",
    "def save_fig(fig_id, tight_layout=True):\n",
    "    path = os.path.join(PROJECT_ROOT_DIR, \"images\", CHAPTER_ID, fig_id + \".png\")\n",
    "    print(\"Saving figure\", fig_id)\n",
    "    if tight_layout:\n",
    "        plt.tight_layout()\n",
    "    plt.savefig(path, format='png', dpi=300)"
   ]
  },
  {
   "cell_type": "markdown",
   "metadata": {},
   "source": [
    "# Introduction to Artificial Neural Networks\n",
    "1. **인공신경망(ANN)** 구조 이해\n",
    "2. **다층 퍼셉트론(MLPs: Multi-Layer Perceptrons)** 을 TensorFlow로 구현하고 MNIST 분류 문제를 풀어보자"
   ]
  },
  {
   "cell_type": "markdown",
   "metadata": {},
   "source": [
    "### Artifcial Neural Netorks(ANNs)\n",
    "> - 기원은 뇌의 구조\n",
    "> - 자연을 본따는 인간의 습성이 그러하듯 \n",
    "> - 하지만 창의성을 위해서는 생물학적 사고 안에서 머물러서는 안된다.\n",
    "> - ANNs는 Deep Learning의 핵심이다.\n",
    "> - 다재다능/강력/확장성으로 어려운 머신러닝 숙제를 잘 풀어간다. (이미지 분류, 음성인식, 추천시스템, 게임)"
   ]
  },
  {
   "cell_type": "markdown",
   "metadata": {},
   "source": [
    "### From Biological to Artificial Neurons"
   ]
  },
  {
   "cell_type": "markdown",
   "metadata": {},
   "source": [
    "- ANNs 는 출현한지 좀 오래된 알고리즘\n",
    " - 1943 신경생리학자 Warren McCulloch와 수학자 Walter Pitts \"A Logical Calculus of Ideas Immanent in Nervous Activity\"\n",
    "   - **논리연산을 사용한 복잡한 계산을 수행시, 동물 두뇌에서 생물학적 뉴런이 작동하는 단순화된 계산 모델 제시** ← 최초 ann 구조\n",
    " - 이후 다른 구조들이 발명되었음\n",
    "\n",
    "\n",
    "- 1960년대까지 ANN 초기 성공은 지능이 있는 기계와 대화할거라는 믿음을 이끌어냈다.\n",
    "- 80년대 초반까지는 암흑기(펀딩x), 새로운 구조와 학습 기술이 개발되면서 다시 관심이 생겨남\n",
    "- 90년대에는 SVM에 밀림(결과가 좋고 이론적 기초가 탄탄)\n",
    "- 최근에는...\n",
    " - <font color='red'>데이터</font>가 방대함, 다른 ML 테크닉보다 크고 복잡한 문제에 성능이 더 좋음\n",
    " - 1990 년대 이후로 <font color='red'>컴퓨팅 파워(GPU, 게임 업계 덕분)</font>가 엄청나게 개선된 덕분에 합리적인 시간에 대규모 신경 네트워크를 학습 할 수 있음\n",
    " - <font color='red'>학습 알고리즘이 개선</font>되었습니다. 사실 그들은 1990 년대에 사용 된 것들과 약간만 다르지만, 이런 작은 비틀기는 엄청난 긍정적 영향을 미침\n",
    " - ANN의 이론적 한계중 일부가 현업에서 쓰기에 무리가 없음이 밝혀짐\n",
    "   - **ex) ANN 교육 알고리즘이 Local 최적 상태에 머물러 있기 때문에 한계에 부딪혔다 고 생각하지만 실제로는 현업에서 그럴일이 거의 없음 \n",
    "   (또는 실제로 그런 경우 일반적으로 Global 최적에 가까움).**\n",
    " - ANN은 자금 조달 및 진보의 선순환 들어갔다. 헤드라인 뉴스 제조기"
   ]
  },
  {
   "cell_type": "markdown",
   "metadata": {},
   "source": [
    "### Biological Neurons\n",
    "> 고차원의 복잡한 계산이 단순한 뉴론들의 Multi layers로 수행될 수 있다. Biological 뉴런 네트워크의 The architecture은 여전히 핫한 연구 주제"
   ]
  },
  {
   "cell_type": "markdown",
   "metadata": {},
   "source": [
    "### Logical Computations with Neurons\n",
    "(assuming that a neuron is activated when at least two of its inputs are active)\n",
    " <img src=\"images/book_img/ch10/10_p1.SimpleANN.png\">"
   ]
  },
  {
   "cell_type": "markdown",
   "metadata": {},
   "source": [
    "### The Perceptron"
   ]
  },
  {
   "cell_type": "markdown",
   "metadata": {},
   "source": [
    "- 가장 간단한 ANN 구조 by 1957 Frank Rosenblatt\n",
    " - linear threshold unit(LTU) : 이진 분류에 사용 (just like a Logistic Regression classifier or a linear SVM) \n",
    "   - input&ouput: numbers (not binary on/off values)\n",
    "   - 각 입력연결은 가중치와 연결된다.\n",
    "   - 입력갑들의 합들을 계산하고, 그 합을 임계값을 경계로 출력하는 2단계로 처리\n",
    "   \n",
    "\n",
    "- Perceptron은 단일 LTU로 구성되어 있다.\n",
    " - input neurons\n",
    " - bias neuron\n",
    "   \n",
    "`\"퍼셉트론에서는 활성화 함수로 계단 함수를 이용한다\"`"
   ]
  },
  {
   "cell_type": "markdown",
   "metadata": {},
   "source": [
    "<img src=\"images/book_img/ch10/10_p2.LTU.png\">"
   ]
  },
  {
   "cell_type": "markdown",
   "metadata": {},
   "source": [
    "<img src=\"images/book_img/ch10/10_p2_2.perceptron_diagram.png\">"
   ]
  },
  {
   "cell_type": "markdown",
   "metadata": {},
   "source": [
    "`Heaviside Step Function(계단함수) 과 부호함수(sign function)`"
   ]
  },
  {
   "cell_type": "markdown",
   "metadata": {},
   "source": [
    "<img src=\"images/book_img/ch10/10_p3.StepFunction.png\">"
   ]
  },
  {
   "cell_type": "markdown",
   "metadata": {},
   "source": [
    "- Percpetron 학습 방법\n",
    " - training algorithm은 Hebb's rule에 영감을 받은 Frank Rosenblatt 에 의해 제안됨\n",
    "   - \"어떤 신경세포의 활성이 다른 신경세포가 활성하는데 계속적으로 공헌을 한다면, 두 신경세포 간의 연결 가중치를 증가시켜 주어야 한다.\"\n",
    "   __ The Organization of Behavior, 1949, Donald Hebb ☆"
   ]
  },
  {
   "cell_type": "markdown",
   "metadata": {},
   "source": [
    "<img src=\"images/book_img/ch10/10_p4.Perceptron learning.png\">"
   ]
  },
  {
   "cell_type": "markdown",
   "metadata": {},
   "source": [
    " - 각 ouput neuron 의 decision boundary 가 선형이므로, perceptron은 복잡한 패턴을 학습하는데 한계가 있다. (Logistic Regression calssifier 처럼)\n",
    "- 하지만 training instances가 선형으로 분리가능하다면, 이 알고리즘이 해로 수렴함: *Percpetron convergence theorem*"
   ]
  },
  {
   "cell_type": "code",
   "execution_count": 2,
   "metadata": {
    "collapsed": true
   },
   "outputs": [],
   "source": [
    "import numpy as np\n",
    "from sklearn.datasets import load_iris\n",
    "from sklearn.linear_model import Perceptron\n",
    "\n",
    "iris = load_iris()\n",
    "X = iris.data[:, (2, 3)]  # petal length, petal width\n",
    "y = (iris.target == 0).astype(np.int) # Boolean -> integer\n",
    "\n",
    "per_clf = Perceptron(random_state=42)\n",
    "per_clf.fit(X, y)\n",
    "\n",
    "y_pred = per_clf.predict([[2, 0.5]])"
   ]
  },
  {
   "cell_type": "code",
   "execution_count": 3,
   "metadata": {},
   "outputs": [
    {
     "data": {
      "text/plain": [
       "array([1])"
      ]
     },
     "execution_count": 3,
     "metadata": {},
     "output_type": "execute_result"
    }
   ],
   "source": [
    "y_pred"
   ]
  },
  {
   "cell_type": "markdown",
   "metadata": {},
   "source": [
    "- Perceptron 학습 알고리즘은 Stochastic Gradient Descent와 유사하다.\n",
    "- Scikit-Learn's Perceptron 클래스는 SGDClassifier 의 아래 하이퍼파라미터 설정으로 했을때 동일하다.\n",
    " - *loss = \"perceptron\", learning_rate=\"constant\", eta0=1 (the learning rate), penalty = None (no regularization)* ☆"
   ]
  },
  {
   "cell_type": "markdown",
   "metadata": {},
   "source": [
    "- Logistic Regression classifiers과 다르게, 각 클래스의 확률을 출력하지 않고 hard threshold에 기반한 예측만 한다."
   ]
  },
  {
   "cell_type": "markdown",
   "metadata": {},
   "source": [
    "- 퍼셉트론의 약점을 기술한 Monograph(Perceptrons, Marvin Minsky and Seymour Papert, 1969)\n",
    " - Exclusive OR(XOR) 문제 못푼다.이는 다른 선형 분류기도 마찬가지만, 많은 연구자들이 connectionism 을 포기하는 계기가 되었다."
   ]
  },
  {
   "cell_type": "markdown",
   "metadata": {},
   "source": [
    "- 이러한 한계점은 여러 Perceptrons 들을 쌓으면서 해소될 수 있다.\n",
    "- 이 ANN은 Multi-Layer Perceptron(MLP)라 불린다."
   ]
  },
  {
   "cell_type": "markdown",
   "metadata": {},
   "source": [
    "<img src=\"images/book_img/ch10/10_p5.XOR.png\">"
   ]
  },
  {
   "cell_type": "markdown",
   "metadata": {},
   "source": [
    "## Multi-Layer Perceptron and Backpropagation"
   ]
  },
  {
   "cell_type": "markdown",
   "metadata": {},
   "source": [
    "- MLP 는 (passthrough) input layer과, 1개 이상의 LTU (hidden layers), 마지막 ouput layer로 구성되어 있다.\n",
    " - ouput layer를 제외한 모든 레이어에 bias neuron이 있고, 다음 레이어에 fully connected 되어 있다.\n",
    " - hidden layers가 2개 이상이라면 Deep nural network(DNN)라고 불린다."
   ]
  },
  {
   "cell_type": "markdown",
   "metadata": {},
   "source": [
    "<img src=\"images/book_img/ch10/10_p6.MLP.png\">"
   ]
  },
  {
   "cell_type": "markdown",
   "metadata": {},
   "source": [
    "- 여러 해 동안 MLP를 학습시키기 위해 많은 연구자들이 성과 없이 고군분투 했다.\n",
    "- <font color = red>**backpropagation** 학습 알고리즘</font>을 소개하는 \"Learning Internal Represenations by Error Propagation\"(1986, D.E. Rumelhar et al) 획기적인 논문이 발간되었다.\n",
    "- 오늘날 우리가 이야기하는**reverse-mode autodiff를 이용한 Gradient Descent 이다.**\n",
    " > 개별 학습 instacne 마다... 모든 누적 레이어에 대해 feed forward pass 이후에 ouput error를 보고, 마지막 hidden layer의 각 뉴런이 ouput error에 얼마나 기여를 했는지 계산한다. 후에 input layer까지 각 이전 hidden layer에서 에러 기여도를 측정하는 방법\n",
    "   - 이러한 reverse pass(**<font color=red>error gradient</font>를 네트워크에서 역으로 전파**함으로써)는 네트워크의 모든 연결된 weight에 대해 error gradient를 효과적으로 측정한다.\n",
    "   - 역전파(backpropatation) 알고리즘의 마지막 단계는 앞에서 측정 한 오류 기울기(error gradient)를 사용하여 네트워크의 모든 연결 가중치에 대한 Gradient Descent 을 수행한다."
   ]
  },
  {
   "cell_type": "markdown",
   "metadata": {},
   "source": [
    "즉, ` \"예측을 하고(forward pass), 에러를 측정하고, 개별 layer를 역으로 추적해 나가면서 각 연결의 error contribution를 계산한다(reverse pass). 그리고 에러를 줄이는 방향으로 가중치를 조정한다(Gradient Descent).\" `"
   ]
  },
  {
   "cell_type": "markdown",
   "metadata": {},
   "source": [
    "- 이 알고리즘이 **제대로 작동하기 위한 핵심(key change)은 step function 대신에 logistic function을 적용하는 MLP's 구조**이다.\n",
    " > logistic function이 모든 곳에서 잘정의된(0이 아닌) 미분계수를 구해주고, 이를 통해 Gradient Descent를 각 단계마다 성공적으로 진전시킬수 있다.\n",
    " > logistic function 대신에 다른 activation function을 적용할수도 있다.\n",
    "   - *The hyperbolic tangent function*\n",
    "    : 1~1(logistic functoin: 0 ~ 1) / normalized(helps speed up convergence)\n",
    "   - *The ReLU function*\n",
    "     : ReLU (z) = max(0, z): 연속적이지만 미분가능하지 않다.(기울기가 급격히 변해서 경사하강이 잘 안된다) / 실제로는 계산이 빠른 이점이 있다. 가장 중요한 것은 출력 값이 최대치가 아니기 때문에 경사하강 중 일부 문제를 줄일 수 있다는 것입니다. ☆\n",
    "   \n",
    "  - 생물학적 뉴런은 활성화 함수를 시그모이드(S-자) 를 구현한다. 따라서 이를 오랫동안 고수했지만, ANN에서 ReLU가 더 잘 작동하는 것이 발견되었다."
   ]
  },
  {
   "cell_type": "code",
   "execution_count": 4,
   "metadata": {
    "collapsed": true
   },
   "outputs": [],
   "source": [
    "def logit(z):\n",
    "    return 1 / (1 + np.exp(-z))\n",
    "\n",
    "def relu(z):\n",
    "    return np.maximum(0, z)\n",
    "\n",
    "def derivative(f, z, eps=0.000001):\n",
    "    return (f(z + eps) - f(z - eps))/(2 * eps)"
   ]
  },
  {
   "cell_type": "code",
   "execution_count": 5,
   "metadata": {},
   "outputs": [
    {
     "data": {
      "text/plain": [
       "[-5, 5, -0.2, 1.2]"
      ]
     },
     "execution_count": 5,
     "metadata": {},
     "output_type": "execute_result"
    },
    {
     "data": {
      "image/png": "[encoded data removed]",
      "text/plain": [
       "<matplotlib.figure.Figure at 0x109689198>"
      ]
     },
     "metadata": {},
     "output_type": "display_data"
    }
   ],
   "source": [
    "z = np.linspace(-5, 5, 200)\n",
    "\n",
    "plt.figure(figsize=(11,4))\n",
    "\n",
    "plt.subplot(121)\n",
    "plt.plot(z, np.sign(z), \"r-\", linewidth=2, label=\"Step\")\n",
    "plt.plot(z, logit(z), \"g--\", linewidth=2, label=\"Logit\")\n",
    "plt.plot(z, np.tanh(z), \"b-\", linewidth=2, label=\"Tanh\")\n",
    "plt.plot(z, relu(z), \"m-.\", linewidth=2, label=\"ReLU\")\n",
    "plt.grid(True)\n",
    "plt.legend(loc=\"center right\", fontsize=14)\n",
    "plt.title(\"Activation functions\", fontsize=14)\n",
    "plt.axis([-5, 5, -1.2, 1.2])\n",
    "\n",
    "plt.subplot(122)\n",
    "plt.plot(z, derivative(np.sign, z), \"r-\", linewidth=2, label=\"Step\")\n",
    "plt.plot(0, 0, \"ro\", markersize=5)\n",
    "plt.plot(0, 0, \"rx\", markersize=10)\n",
    "plt.plot(z, derivative(logit, z), \"g--\", linewidth=2, label=\"Logit\")\n",
    "plt.plot(z, derivative(np.tanh, z), \"b-\", linewidth=2, label=\"Tanh\")\n",
    "plt.plot(z, derivative(relu, z), \"m-.\", linewidth=2, label=\"ReLU\")\n",
    "plt.grid(True)\n",
    "#plt.legend(loc=\"center right\", fontsize=14)\n",
    "plt.title(\"Derivatives\", fontsize=14)\n",
    "plt.axis([-5, 5, -0.2, 1.2])\n",
    "\n",
    "# save_fig(\"activation_functions_plot\")\n",
    "# plt.show()"
   ]
  },
  {
   "cell_type": "markdown",
   "metadata": {},
   "source": [
    "- MLP는 이진 분류기(스팸, 긴급 알림 등)에 자주 쓰인다.\n",
    "- 결과가 배타적이라면(이지 분류가 0~9까지 잇을때 등) output layer를 individual activation function 이 아닌 shared soft-max 함수를 적용하면 된다.\n",
    " - 각 뉴런의 출력은 해당 클래스의 예상 확률에 해당한다.\n",
    "\n",
    "Note that the signal flows only in one direction (from the inputs to the outputs), so this architecture is an example of a feedforward neural network ☆"
   ]
  },
  {
   "cell_type": "markdown",
   "metadata": {},
   "source": [
    "<img src=\"images/book_img/ch10/10_p7.MLP_wSpftmax.png\">"
   ]
  },
  {
   "cell_type": "markdown",
   "metadata": {},
   "source": [
    "## Activation Function"
   ]
  },
  {
   "cell_type": "code",
   "execution_count": 6,
   "metadata": {
    "collapsed": true
   },
   "outputs": [],
   "source": [
    "def heaviside(z):\n",
    "    return (z >= 0).astype(z.dtype)\n",
    "\n",
    "def sigmoid(z):\n",
    "    return 1/(1+np.exp(-z))\n",
    "\n",
    "def mlp_xor(x1, x2, activation=heaviside):\n",
    "    return activation(-activation(x1 + x2 - 1.5) + activation(x1 + x2 - 0.5) - 0.5)"
   ]
  },
  {
   "cell_type": "code",
   "execution_count": 7,
   "metadata": {},
   "outputs": [
    {
     "data": {
      "image/png": "[encoded data removed]",
      "text/plain": [
       "<matplotlib.figure.Figure at 0x109592be0>"
      ]
     },
     "metadata": {},
     "output_type": "display_data"
    }
   ],
   "source": [
    "x1s = np.linspace(-0.2, 1.2, 100)\n",
    "x2s = np.linspace(-0.2, 1.2, 100)\n",
    "x1, x2 = np.meshgrid(x1s, x2s)\n",
    "\n",
    "z1 = mlp_xor(x1, x2, activation=heaviside)\n",
    "z2 = mlp_xor(x1, x2, activation=sigmoid)\n",
    "\n",
    "plt.figure(figsize=(10,4))\n",
    "\n",
    "plt.subplot(121)\n",
    "plt.contourf(x1, x2, z1)\n",
    "plt.plot([0, 1], [0, 1], \"gs\", markersize=20)\n",
    "plt.plot([0, 1], [1, 0], \"y^\", markersize=20)\n",
    "plt.title(\"Activation function: heaviside\", fontsize=14)\n",
    "plt.grid(True)\n",
    "\n",
    "plt.subplot(122)\n",
    "plt.contourf(x1, x2, z2)\n",
    "plt.plot([0, 1], [0, 1], \"gs\", markersize=20)\n",
    "plt.plot([0, 1], [1, 0], \"y^\", markersize=20)\n",
    "plt.title(\"Activation function: sigmoid\", fontsize=14)\n",
    "plt.grid(True)"
   ]
  },
  {
   "cell_type": "markdown",
   "metadata": {},
   "source": [
    "## Training an MLP with TensorFlow's High-Level API\n",
    "## using tf.learn"
   ]
  },
  {
   "cell_type": "markdown",
   "metadata": {},
   "source": [
    "- TF.Learn의 DNN Classifier 클래스는 hidden layer 와 softmax output layer을 쉽게 만들어준다.\n",
    "- (예제) DNN 2개 hiedden layers(각각 300개, 100개 뉴런)과 1개의 output layer (10개 뉴런) "
   ]
  },
  {
   "cell_type": "code",
   "execution_count": 8,
   "metadata": {},
   "outputs": [
    {
     "name": "stdout",
     "output_type": "stream",
     "text": [
      "Successfully downloaded train-images-idx3-ubyte.gz 9912422 bytes.\n",
      "Extracting /tmp/data/train-images-idx3-ubyte.gz\n",
      "Successfully downloaded train-labels-idx1-ubyte.gz 28881 bytes.\n",
      "Extracting /tmp/data/train-labels-idx1-ubyte.gz\n",
      "Successfully downloaded t10k-images-idx3-ubyte.gz 1648877 bytes.\n",
      "Extracting /tmp/data/t10k-images-idx3-ubyte.gz\n",
      "Successfully downloaded t10k-labels-idx1-ubyte.gz 4542 bytes.\n",
      "Extracting /tmp/data/t10k-labels-idx1-ubyte.gz\n"
     ]
    }
   ],
   "source": [
    "from tensorflow.examples.tutorials.mnist import input_data\n",
    "mnist = input_data.read_data_sets(\"/tmp/data/\")"
   ]
  },
  {
   "cell_type": "code",
   "execution_count": 9,
   "metadata": {
    "collapsed": true
   },
   "outputs": [],
   "source": [
    "X_train = mnist.train.images\n",
    "X_test = mnist.test.images\n",
    "y_train = mnist.train.labels.astype(\"int\")\n",
    "y_test = mnist.test.labels.astype(\"int\")"
   ]
  },
  {
   "cell_type": "code",
   "execution_count": 10,
   "metadata": {},
   "outputs": [
    {
     "name": "stdout",
     "output_type": "stream",
     "text": [
      "INFO:tensorflow:Using config: {'_task_type': None, '_task_id': 0, '_cluster_spec': <tensorflow.python.training.server_lib.ClusterSpec object at 0x131f1e7b8>, '_master': '', '_num_ps_replicas': 0, '_num_worker_replicas': 0, '_environment': 'local', '_is_chief': True, '_evaluation_master': '', '_tf_config': gpu_options {\n",
      "  per_process_gpu_memory_fraction: 1\n",
      "}\n",
      ", '_tf_random_seed': 42, '_save_summary_steps': 100, '_save_checkpoints_secs': 600, '_save_checkpoints_steps': None, '_keep_checkpoint_max': 5, '_keep_checkpoint_every_n_hours': 10000, '_model_dir': None}\n",
      "WARNING:tensorflow:Using temporary folder as model directory: /var/folders/rz/pq7kq6qn5k757n49mq6f4gth0000gn/T/tmpateyigox\n",
      "WARNING:tensorflow:From /Users/qbinson/.virtualenvs/elice/lib/python3.6/site-packages/tensorflow/contrib/learn/python/learn/estimators/head.py:615: scalar_summary (from tensorflow.python.ops.logging_ops) is deprecated and will be removed after 2016-11-30.\n",
      "Instructions for updating:\n",
      "Please switch to tf.summary.scalar. Note that tf.summary.scalar uses the node name instead of the tag. This means that TensorFlow will automatically de-duplicate summary names based on the scope they are created in. Also, passing a tensor or list of tags to a scalar summary op is no longer supported.\n",
      "INFO:tensorflow:Create CheckpointSaverHook.\n",
      "INFO:tensorflow:Saving checkpoints for 1 into /var/folders/rz/pq7kq6qn5k757n49mq6f4gth0000gn/T/tmpateyigox/model.ckpt.\n",
      "INFO:tensorflow:loss = 2.36511, step = 1\n",
      "INFO:tensorflow:global_step/sec: 155.652\n",
      "INFO:tensorflow:loss = 0.352858, step = 101 (0.644 sec)\n",
      "INFO:tensorflow:global_step/sec: 193.149\n",
      "INFO:tensorflow:loss = 0.257753, step = 201 (0.518 sec)\n",
      "INFO:tensorflow:global_step/sec: 193.083\n",
      "INFO:tensorflow:loss = 0.374227, step = 301 (0.518 sec)\n",
      "INFO:tensorflow:global_step/sec: 192.857\n",
      "INFO:tensorflow:loss = 0.242888, step = 401 (0.519 sec)\n",
      "INFO:tensorflow:global_step/sec: 189.179\n",
      "INFO:tensorflow:loss = 0.265575, step = 501 (0.529 sec)\n",
      "INFO:tensorflow:global_step/sec: 193.113\n",
      "INFO:tensorflow:loss = 0.0870075, step = 601 (0.518 sec)\n",
      "INFO:tensorflow:global_step/sec: 193.252\n",
      "INFO:tensorflow:loss = 0.118208, step = 701 (0.518 sec)\n",
      "INFO:tensorflow:global_step/sec: 194.27\n",
      "INFO:tensorflow:loss = 0.196863, step = 801 (0.515 sec)\n",
      "INFO:tensorflow:global_step/sec: 188.953\n",
      "INFO:tensorflow:loss = 0.113669, step = 901 (0.529 sec)\n",
      "INFO:tensorflow:global_step/sec: 193.188\n",
      "INFO:tensorflow:loss = 0.232583, step = 1001 (0.518 sec)\n",
      "INFO:tensorflow:global_step/sec: 193.868\n",
      "INFO:tensorflow:loss = 0.173962, step = 1101 (0.516 sec)\n",
      "INFO:tensorflow:global_step/sec: 193.092\n",
      "INFO:tensorflow:loss = 0.12305, step = 1201 (0.518 sec)\n",
      "INFO:tensorflow:global_step/sec: 192.154\n",
      "INFO:tensorflow:loss = 0.156566, step = 1301 (0.521 sec)\n",
      "INFO:tensorflow:global_step/sec: 191.838\n",
      "INFO:tensorflow:loss = 0.0733498, step = 1401 (0.521 sec)\n",
      "INFO:tensorflow:global_step/sec: 190.841\n",
      "INFO:tensorflow:loss = 0.11247, step = 1501 (0.524 sec)\n",
      "INFO:tensorflow:global_step/sec: 193.084\n",
      "INFO:tensorflow:loss = 0.156935, step = 1601 (0.518 sec)\n",
      "INFO:tensorflow:global_step/sec: 190.79\n",
      "INFO:tensorflow:loss = 0.0358028, step = 1701 (0.524 sec)\n",
      "INFO:tensorflow:global_step/sec: 192.123\n",
      "INFO:tensorflow:loss = 0.179867, step = 1801 (0.520 sec)\n",
      "INFO:tensorflow:global_step/sec: 192.604\n",
      "INFO:tensorflow:loss = 0.133954, step = 1901 (0.519 sec)\n",
      "INFO:tensorflow:global_step/sec: 192.284\n",
      "INFO:tensorflow:loss = 0.131093, step = 2001 (0.520 sec)\n",
      "INFO:tensorflow:global_step/sec: 193.873\n",
      "INFO:tensorflow:loss = 0.0225927, step = 2101 (0.516 sec)\n",
      "INFO:tensorflow:global_step/sec: 189.626\n",
      "INFO:tensorflow:loss = 0.0311291, step = 2201 (0.527 sec)\n",
      "INFO:tensorflow:global_step/sec: 195.271\n",
      "INFO:tensorflow:loss = 0.0653558, step = 2301 (0.512 sec)\n",
      "INFO:tensorflow:global_step/sec: 192.389\n",
      "INFO:tensorflow:loss = 0.0513635, step = 2401 (0.520 sec)\n",
      "INFO:tensorflow:global_step/sec: 190.923\n",
      "INFO:tensorflow:loss = 0.108849, step = 2501 (0.524 sec)\n",
      "INFO:tensorflow:global_step/sec: 192.062\n",
      "INFO:tensorflow:loss = 0.0525253, step = 2601 (0.520 sec)\n",
      "INFO:tensorflow:global_step/sec: 189.369\n",
      "INFO:tensorflow:loss = 0.0108695, step = 2701 (0.528 sec)\n",
      "INFO:tensorflow:global_step/sec: 194.183\n",
      "INFO:tensorflow:loss = 0.0373951, step = 2801 (0.515 sec)\n",
      "INFO:tensorflow:global_step/sec: 192.142\n",
      "INFO:tensorflow:loss = 0.122921, step = 2901 (0.521 sec)\n",
      "INFO:tensorflow:global_step/sec: 191.511\n",
      "INFO:tensorflow:loss = 0.0181274, step = 3001 (0.522 sec)\n",
      "INFO:tensorflow:global_step/sec: 193.282\n",
      "INFO:tensorflow:loss = 0.0449047, step = 3101 (0.517 sec)\n",
      "INFO:tensorflow:global_step/sec: 194.764\n",
      "INFO:tensorflow:loss = 0.0176369, step = 3201 (0.513 sec)\n",
      "INFO:tensorflow:global_step/sec: 193.613\n",
      "INFO:tensorflow:loss = 0.0176865, step = 3301 (0.517 sec)\n",
      "INFO:tensorflow:global_step/sec: 193.678\n",
      "INFO:tensorflow:loss = 0.213318, step = 3401 (0.516 sec)\n",
      "INFO:tensorflow:global_step/sec: 190.704\n",
      "INFO:tensorflow:loss = 0.0650596, step = 3501 (0.524 sec)\n",
      "INFO:tensorflow:global_step/sec: 193.245\n",
      "INFO:tensorflow:loss = 0.167223, step = 3601 (0.518 sec)\n",
      "INFO:tensorflow:global_step/sec: 191.904\n",
      "INFO:tensorflow:loss = 0.035286, step = 3701 (0.521 sec)\n",
      "INFO:tensorflow:global_step/sec: 193.014\n",
      "INFO:tensorflow:loss = 0.0153058, step = 3801 (0.518 sec)\n",
      "INFO:tensorflow:global_step/sec: 192.704\n",
      "INFO:tensorflow:loss = 0.121445, step = 3901 (0.519 sec)\n",
      "INFO:tensorflow:global_step/sec: 193.465\n",
      "INFO:tensorflow:loss = 0.103279, step = 4001 (0.517 sec)\n",
      "INFO:tensorflow:global_step/sec: 191.84\n",
      "INFO:tensorflow:loss = 0.0329011, step = 4101 (0.521 sec)\n",
      "INFO:tensorflow:global_step/sec: 193.645\n",
      "INFO:tensorflow:loss = 0.0429299, step = 4201 (0.516 sec)\n",
      "INFO:tensorflow:global_step/sec: 192.64\n",
      "INFO:tensorflow:loss = 0.191253, step = 4301 (0.519 sec)\n",
      "INFO:tensorflow:global_step/sec: 191.716\n",
      "INFO:tensorflow:loss = 0.115447, step = 4401 (0.522 sec)\n",
      "INFO:tensorflow:global_step/sec: 201.911\n",
      "INFO:tensorflow:loss = 0.0185967, step = 4501 (0.495 sec)\n",
      "INFO:tensorflow:global_step/sec: 200.27\n",
      "INFO:tensorflow:loss = 0.023272, step = 4601 (0.499 sec)\n",
      "INFO:tensorflow:global_step/sec: 203.309\n",
      "INFO:tensorflow:loss = 0.008589, step = 4701 (0.492 sec)\n",
      "INFO:tensorflow:global_step/sec: 200.306\n",
      "INFO:tensorflow:loss = 0.0238874, step = 4801 (0.499 sec)\n",
      "INFO:tensorflow:global_step/sec: 202.199\n",
      "INFO:tensorflow:loss = 0.0644178, step = 4901 (0.495 sec)\n",
      "INFO:tensorflow:global_step/sec: 201.383\n",
      "INFO:tensorflow:loss = 0.126686, step = 5001 (0.497 sec)\n",
      "INFO:tensorflow:global_step/sec: 200.056\n",
      "INFO:tensorflow:loss = 0.015281, step = 5101 (0.500 sec)\n",
      "INFO:tensorflow:global_step/sec: 199.363\n",
      "INFO:tensorflow:loss = 0.0407446, step = 5201 (0.502 sec)\n",
      "INFO:tensorflow:global_step/sec: 201.566\n",
      "INFO:tensorflow:loss = 0.0255002, step = 5301 (0.496 sec)\n",
      "INFO:tensorflow:global_step/sec: 202.294\n",
      "INFO:tensorflow:loss = 0.0481827, step = 5401 (0.494 sec)\n",
      "INFO:tensorflow:global_step/sec: 196.942\n",
      "INFO:tensorflow:loss = 0.0239235, step = 5501 (0.508 sec)\n",
      "INFO:tensorflow:global_step/sec: 198.16\n",
      "INFO:tensorflow:loss = 0.116352, step = 5601 (0.505 sec)\n",
      "INFO:tensorflow:global_step/sec: 197.466\n",
      "INFO:tensorflow:loss = 0.0159615, step = 5701 (0.506 sec)\n",
      "INFO:tensorflow:global_step/sec: 202.702\n",
      "INFO:tensorflow:loss = 0.0104831, step = 5801 (0.493 sec)\n",
      "INFO:tensorflow:global_step/sec: 202.497\n",
      "INFO:tensorflow:loss = 0.0832038, step = 5901 (0.494 sec)\n",
      "INFO:tensorflow:global_step/sec: 202.22\n",
      "INFO:tensorflow:loss = 0.110211, step = 6001 (0.495 sec)\n",
      "INFO:tensorflow:global_step/sec: 197.755\n",
      "INFO:tensorflow:loss = 0.02048, step = 6101 (0.506 sec)\n",
      "INFO:tensorflow:global_step/sec: 203.187\n",
      "INFO:tensorflow:loss = 0.0197042, step = 6201 (0.492 sec)\n",
      "INFO:tensorflow:global_step/sec: 200.923\n",
      "INFO:tensorflow:loss = 0.0647402, step = 6301 (0.498 sec)\n",
      "INFO:tensorflow:global_step/sec: 197.229\n",
      "INFO:tensorflow:loss = 0.0166577, step = 6401 (0.507 sec)\n",
      "INFO:tensorflow:global_step/sec: 201.511\n",
      "INFO:tensorflow:loss = 0.0120903, step = 6501 (0.496 sec)\n",
      "INFO:tensorflow:global_step/sec: 198.866\n",
      "INFO:tensorflow:loss = 0.0133222, step = 6601 (0.503 sec)\n",
      "INFO:tensorflow:global_step/sec: 198.814\n",
      "INFO:tensorflow:loss = 0.0151751, step = 6701 (0.503 sec)\n",
      "INFO:tensorflow:global_step/sec: 202.955\n",
      "INFO:tensorflow:loss = 0.0065389, step = 6801 (0.493 sec)\n",
      "INFO:tensorflow:global_step/sec: 201.219\n"
     ]
    },
    {
     "name": "stdout",
     "output_type": "stream",
     "text": [
      "INFO:tensorflow:loss = 0.0136699, step = 6901 (0.497 sec)\n",
      "INFO:tensorflow:global_step/sec: 202.245\n",
      "INFO:tensorflow:loss = 0.0266123, step = 7001 (0.495 sec)\n",
      "INFO:tensorflow:global_step/sec: 199.101\n",
      "INFO:tensorflow:loss = 0.00661904, step = 7101 (0.502 sec)\n",
      "INFO:tensorflow:global_step/sec: 202.827\n",
      "INFO:tensorflow:loss = 0.0382335, step = 7201 (0.493 sec)\n",
      "INFO:tensorflow:global_step/sec: 202.557\n",
      "INFO:tensorflow:loss = 0.00938992, step = 7301 (0.494 sec)\n",
      "INFO:tensorflow:global_step/sec: 203.639\n",
      "INFO:tensorflow:loss = 0.0176395, step = 7401 (0.491 sec)\n",
      "INFO:tensorflow:global_step/sec: 195.016\n",
      "INFO:tensorflow:loss = 0.00269845, step = 7501 (0.513 sec)\n",
      "INFO:tensorflow:global_step/sec: 193.946\n",
      "INFO:tensorflow:loss = 0.0172509, step = 7601 (0.515 sec)\n",
      "INFO:tensorflow:global_step/sec: 191.295\n",
      "INFO:tensorflow:loss = 0.00714039, step = 7701 (0.523 sec)\n",
      "INFO:tensorflow:global_step/sec: 142.613\n",
      "INFO:tensorflow:loss = 0.00676612, step = 7801 (0.702 sec)\n",
      "INFO:tensorflow:global_step/sec: 166.55\n",
      "INFO:tensorflow:loss = 0.0104606, step = 7901 (0.600 sec)\n",
      "INFO:tensorflow:global_step/sec: 175.432\n",
      "INFO:tensorflow:loss = 0.00164501, step = 8001 (0.570 sec)\n",
      "INFO:tensorflow:global_step/sec: 191.358\n",
      "INFO:tensorflow:loss = 0.0281608, step = 8101 (0.522 sec)\n",
      "INFO:tensorflow:global_step/sec: 206.372\n",
      "INFO:tensorflow:loss = 0.0116268, step = 8201 (0.485 sec)\n",
      "INFO:tensorflow:global_step/sec: 213.055\n",
      "INFO:tensorflow:loss = 0.0343281, step = 8301 (0.469 sec)\n",
      "INFO:tensorflow:global_step/sec: 210.236\n",
      "INFO:tensorflow:loss = 0.00815744, step = 8401 (0.476 sec)\n",
      "INFO:tensorflow:global_step/sec: 213.981\n",
      "INFO:tensorflow:loss = 0.00329395, step = 8501 (0.467 sec)\n",
      "INFO:tensorflow:global_step/sec: 212.153\n",
      "INFO:tensorflow:loss = 0.00260592, step = 8601 (0.471 sec)\n",
      "INFO:tensorflow:global_step/sec: 211.137\n",
      "INFO:tensorflow:loss = 0.0017944, step = 8701 (0.474 sec)\n",
      "INFO:tensorflow:global_step/sec: 209.491\n",
      "INFO:tensorflow:loss = 0.0274318, step = 8801 (0.477 sec)\n",
      "INFO:tensorflow:global_step/sec: 210.502\n",
      "INFO:tensorflow:loss = 0.00224499, step = 8901 (0.475 sec)\n",
      "INFO:tensorflow:global_step/sec: 206.507\n",
      "INFO:tensorflow:loss = 0.00663088, step = 9001 (0.484 sec)\n",
      "INFO:tensorflow:global_step/sec: 192.48\n",
      "INFO:tensorflow:loss = 0.00479007, step = 9101 (0.520 sec)\n",
      "INFO:tensorflow:global_step/sec: 206.087\n",
      "INFO:tensorflow:loss = 0.00719844, step = 9201 (0.485 sec)\n",
      "INFO:tensorflow:global_step/sec: 231.449\n",
      "INFO:tensorflow:loss = 0.00686181, step = 9301 (0.432 sec)\n",
      "INFO:tensorflow:global_step/sec: 195.967\n",
      "INFO:tensorflow:loss = 0.0561124, step = 9401 (0.510 sec)\n",
      "INFO:tensorflow:global_step/sec: 230.696\n",
      "INFO:tensorflow:loss = 0.00679949, step = 9501 (0.433 sec)\n",
      "INFO:tensorflow:global_step/sec: 223.626\n",
      "INFO:tensorflow:loss = 0.0036581, step = 9601 (0.447 sec)\n",
      "INFO:tensorflow:global_step/sec: 221.475\n",
      "INFO:tensorflow:loss = 0.00430781, step = 9701 (0.451 sec)\n",
      "INFO:tensorflow:global_step/sec: 224.658\n",
      "INFO:tensorflow:loss = 0.00157378, step = 9801 (0.445 sec)\n",
      "INFO:tensorflow:global_step/sec: 215.601\n",
      "INFO:tensorflow:loss = 0.0152471, step = 9901 (0.464 sec)\n",
      "INFO:tensorflow:global_step/sec: 218.959\n",
      "INFO:tensorflow:loss = 0.0197686, step = 10001 (0.457 sec)\n",
      "INFO:tensorflow:global_step/sec: 218.386\n",
      "INFO:tensorflow:loss = 0.00875743, step = 10101 (0.458 sec)\n",
      "INFO:tensorflow:global_step/sec: 218.855\n",
      "INFO:tensorflow:loss = 0.0103044, step = 10201 (0.457 sec)\n",
      "INFO:tensorflow:global_step/sec: 216.844\n",
      "INFO:tensorflow:loss = 0.00320183, step = 10301 (0.461 sec)\n",
      "INFO:tensorflow:global_step/sec: 220.141\n",
      "INFO:tensorflow:loss = 0.00661283, step = 10401 (0.454 sec)\n",
      "INFO:tensorflow:global_step/sec: 215.674\n",
      "INFO:tensorflow:loss = 0.00155472, step = 10501 (0.464 sec)\n",
      "INFO:tensorflow:global_step/sec: 211.175\n",
      "INFO:tensorflow:loss = 0.00894439, step = 10601 (0.473 sec)\n",
      "INFO:tensorflow:global_step/sec: 217.955\n",
      "INFO:tensorflow:loss = 0.0254303, step = 10701 (0.459 sec)\n",
      "INFO:tensorflow:global_step/sec: 219.134\n",
      "INFO:tensorflow:loss = 0.00407793, step = 10801 (0.456 sec)\n",
      "INFO:tensorflow:global_step/sec: 215.501\n",
      "INFO:tensorflow:loss = 0.00499504, step = 10901 (0.464 sec)\n",
      "INFO:tensorflow:global_step/sec: 212.718\n",
      "INFO:tensorflow:loss = 0.0164442, step = 11001 (0.470 sec)\n",
      "INFO:tensorflow:global_step/sec: 220.929\n",
      "INFO:tensorflow:loss = 0.00307142, step = 11101 (0.452 sec)\n",
      "INFO:tensorflow:global_step/sec: 221.117\n",
      "INFO:tensorflow:loss = 0.00108776, step = 11201 (0.452 sec)\n",
      "INFO:tensorflow:global_step/sec: 218.251\n",
      "INFO:tensorflow:loss = 0.00909141, step = 11301 (0.458 sec)\n",
      "INFO:tensorflow:global_step/sec: 208.968\n",
      "INFO:tensorflow:loss = 0.0054372, step = 11401 (0.479 sec)\n",
      "INFO:tensorflow:global_step/sec: 214.432\n",
      "INFO:tensorflow:loss = 0.00922716, step = 11501 (0.466 sec)\n",
      "INFO:tensorflow:global_step/sec: 209.203\n",
      "INFO:tensorflow:loss = 0.000940371, step = 11601 (0.478 sec)\n",
      "INFO:tensorflow:global_step/sec: 207.732\n",
      "INFO:tensorflow:loss = 0.00358525, step = 11701 (0.481 sec)\n",
      "INFO:tensorflow:global_step/sec: 203.335\n",
      "INFO:tensorflow:loss = 0.000163179, step = 11801 (0.493 sec)\n",
      "INFO:tensorflow:global_step/sec: 204.754\n",
      "INFO:tensorflow:loss = 0.00348126, step = 11901 (0.487 sec)\n",
      "INFO:tensorflow:global_step/sec: 206\n",
      "INFO:tensorflow:loss = 0.000426022, step = 12001 (0.486 sec)\n",
      "INFO:tensorflow:global_step/sec: 208.803\n",
      "INFO:tensorflow:loss = 0.00667039, step = 12101 (0.479 sec)\n",
      "INFO:tensorflow:global_step/sec: 207.164\n",
      "INFO:tensorflow:loss = 0.0111469, step = 12201 (0.483 sec)\n",
      "INFO:tensorflow:global_step/sec: 212.849\n",
      "INFO:tensorflow:loss = 0.00573084, step = 12301 (0.470 sec)\n",
      "INFO:tensorflow:global_step/sec: 207.898\n",
      "INFO:tensorflow:loss = 0.000534757, step = 12401 (0.481 sec)\n",
      "INFO:tensorflow:global_step/sec: 207.442\n",
      "INFO:tensorflow:loss = 0.00218082, step = 12501 (0.482 sec)\n",
      "INFO:tensorflow:global_step/sec: 206.502\n",
      "INFO:tensorflow:loss = 0.00126505, step = 12601 (0.484 sec)\n",
      "INFO:tensorflow:global_step/sec: 205.389\n",
      "INFO:tensorflow:loss = 0.00439872, step = 12701 (0.487 sec)\n",
      "INFO:tensorflow:global_step/sec: 208.746\n",
      "INFO:tensorflow:loss = 0.00857892, step = 12801 (0.479 sec)\n",
      "INFO:tensorflow:global_step/sec: 207.067\n",
      "INFO:tensorflow:loss = 0.00320482, step = 12901 (0.482 sec)\n",
      "INFO:tensorflow:global_step/sec: 207.567\n",
      "INFO:tensorflow:loss = 0.00480689, step = 13001 (0.482 sec)\n",
      "INFO:tensorflow:global_step/sec: 202.689\n",
      "INFO:tensorflow:loss = 0.00174232, step = 13101 (0.493 sec)\n",
      "INFO:tensorflow:global_step/sec: 203.196\n",
      "INFO:tensorflow:loss = 0.00201284, step = 13201 (0.492 sec)\n",
      "INFO:tensorflow:global_step/sec: 208.368\n",
      "INFO:tensorflow:loss = 0.00452757, step = 13301 (0.480 sec)\n",
      "INFO:tensorflow:global_step/sec: 205.643\n",
      "INFO:tensorflow:loss = 0.00745066, step = 13401 (0.486 sec)\n",
      "INFO:tensorflow:global_step/sec: 208.38\n",
      "INFO:tensorflow:loss = 0.00437639, step = 13501 (0.480 sec)\n",
      "INFO:tensorflow:global_step/sec: 207.598\n",
      "INFO:tensorflow:loss = 0.00673502, step = 13601 (0.482 sec)\n",
      "INFO:tensorflow:global_step/sec: 207.342\n",
      "INFO:tensorflow:loss = 0.00272274, step = 13701 (0.482 sec)\n",
      "INFO:tensorflow:global_step/sec: 208.332\n",
      "INFO:tensorflow:loss = 0.0042809, step = 13801 (0.480 sec)\n",
      "INFO:tensorflow:global_step/sec: 207.111\n",
      "INFO:tensorflow:loss = 0.00220351, step = 13901 (0.483 sec)\n",
      "INFO:tensorflow:global_step/sec: 206.517\n",
      "INFO:tensorflow:loss = 0.00268933, step = 14001 (0.484 sec)\n",
      "INFO:tensorflow:global_step/sec: 210.034\n",
      "INFO:tensorflow:loss = 0.0107425, step = 14101 (0.476 sec)\n",
      "INFO:tensorflow:global_step/sec: 205.345\n",
      "INFO:tensorflow:loss = 0.0026298, step = 14201 (0.487 sec)\n",
      "INFO:tensorflow:global_step/sec: 190.269\n",
      "INFO:tensorflow:loss = 0.00154992, step = 14301 (0.525 sec)\n",
      "INFO:tensorflow:global_step/sec: 206.052\n",
      "INFO:tensorflow:loss = 0.00061596, step = 14401 (0.485 sec)\n",
      "INFO:tensorflow:global_step/sec: 202.871\n",
      "INFO:tensorflow:loss = 0.000855468, step = 14501 (0.500 sec)\n",
      "INFO:tensorflow:global_step/sec: 190.872\n",
      "INFO:tensorflow:loss = 0.00425993, step = 14601 (0.516 sec)\n",
      "INFO:tensorflow:global_step/sec: 209.872\n",
      "INFO:tensorflow:loss = 0.000741548, step = 14701 (0.477 sec)\n",
      "INFO:tensorflow:global_step/sec: 206.47\n",
      "INFO:tensorflow:loss = 0.000813556, step = 14801 (0.484 sec)\n",
      "INFO:tensorflow:global_step/sec: 213.076\n",
      "INFO:tensorflow:loss = 0.00212573, step = 14901 (0.469 sec)\n",
      "INFO:tensorflow:global_step/sec: 202.476\n",
      "INFO:tensorflow:loss = 0.000602534, step = 15001 (0.494 sec)\n",
      "INFO:tensorflow:global_step/sec: 208.469\n"
     ]
    },
    {
     "name": "stdout",
     "output_type": "stream",
     "text": [
      "INFO:tensorflow:loss = 0.0021394, step = 15101 (0.480 sec)\n",
      "INFO:tensorflow:global_step/sec: 203.087\n",
      "INFO:tensorflow:loss = 0.00143217, step = 15201 (0.492 sec)\n",
      "INFO:tensorflow:global_step/sec: 199.888\n",
      "INFO:tensorflow:loss = 0.00144085, step = 15301 (0.500 sec)\n",
      "INFO:tensorflow:global_step/sec: 204.679\n",
      "INFO:tensorflow:loss = 0.00202756, step = 15401 (0.489 sec)\n",
      "INFO:tensorflow:global_step/sec: 201.838\n",
      "INFO:tensorflow:loss = 0.00536905, step = 15501 (0.495 sec)\n",
      "INFO:tensorflow:global_step/sec: 205.521\n",
      "INFO:tensorflow:loss = 0.00482624, step = 15601 (0.487 sec)\n",
      "INFO:tensorflow:global_step/sec: 205.731\n",
      "INFO:tensorflow:loss = 0.00891734, step = 15701 (0.488 sec)\n",
      "INFO:tensorflow:global_step/sec: 203.733\n",
      "INFO:tensorflow:loss = 0.000380861, step = 15801 (0.489 sec)\n",
      "INFO:tensorflow:global_step/sec: 203.752\n",
      "INFO:tensorflow:loss = 0.00026086, step = 15901 (0.491 sec)\n",
      "INFO:tensorflow:global_step/sec: 206.343\n",
      "INFO:tensorflow:loss = 0.00497545, step = 16001 (0.485 sec)\n",
      "INFO:tensorflow:global_step/sec: 206.004\n",
      "INFO:tensorflow:loss = 0.00314433, step = 16101 (0.485 sec)\n",
      "INFO:tensorflow:global_step/sec: 208.203\n",
      "INFO:tensorflow:loss = 0.000157718, step = 16201 (0.480 sec)\n",
      "INFO:tensorflow:global_step/sec: 209.065\n",
      "INFO:tensorflow:loss = 0.00320827, step = 16301 (0.478 sec)\n",
      "INFO:tensorflow:global_step/sec: 205.637\n",
      "INFO:tensorflow:loss = 0.00267011, step = 16401 (0.486 sec)\n",
      "INFO:tensorflow:global_step/sec: 209.72\n",
      "INFO:tensorflow:loss = 0.00361123, step = 16501 (0.477 sec)\n",
      "INFO:tensorflow:global_step/sec: 201.966\n",
      "INFO:tensorflow:loss = 0.00153517, step = 16601 (0.495 sec)\n",
      "INFO:tensorflow:global_step/sec: 208.712\n",
      "INFO:tensorflow:loss = 0.0019183, step = 16701 (0.479 sec)\n",
      "INFO:tensorflow:global_step/sec: 207.284\n",
      "INFO:tensorflow:loss = 0.00212518, step = 16801 (0.483 sec)\n",
      "INFO:tensorflow:global_step/sec: 209.146\n",
      "INFO:tensorflow:loss = 0.00378694, step = 16901 (0.478 sec)\n",
      "INFO:tensorflow:global_step/sec: 207.15\n",
      "INFO:tensorflow:loss = 0.00534902, step = 17001 (0.483 sec)\n",
      "INFO:tensorflow:global_step/sec: 205.33\n",
      "INFO:tensorflow:loss = 0.000740566, step = 17101 (0.487 sec)\n",
      "INFO:tensorflow:global_step/sec: 200.688\n",
      "INFO:tensorflow:loss = 0.00265377, step = 17201 (0.498 sec)\n",
      "INFO:tensorflow:global_step/sec: 205.049\n",
      "INFO:tensorflow:loss = 0.000843605, step = 17301 (0.488 sec)\n",
      "INFO:tensorflow:global_step/sec: 209.641\n",
      "INFO:tensorflow:loss = 0.00128785, step = 17401 (0.477 sec)\n",
      "INFO:tensorflow:global_step/sec: 202.09\n",
      "INFO:tensorflow:loss = 0.00156691, step = 17501 (0.495 sec)\n",
      "INFO:tensorflow:global_step/sec: 207.628\n",
      "INFO:tensorflow:loss = 0.000597074, step = 17601 (0.482 sec)\n",
      "INFO:tensorflow:global_step/sec: 206.595\n",
      "INFO:tensorflow:loss = 0.000906346, step = 17701 (0.484 sec)\n",
      "INFO:tensorflow:global_step/sec: 194.082\n",
      "INFO:tensorflow:loss = 0.000176809, step = 17801 (0.515 sec)\n",
      "INFO:tensorflow:global_step/sec: 210.053\n",
      "INFO:tensorflow:loss = 0.00352178, step = 17901 (0.476 sec)\n",
      "INFO:tensorflow:global_step/sec: 205.215\n",
      "INFO:tensorflow:loss = 0.00048411, step = 18001 (0.487 sec)\n",
      "INFO:tensorflow:global_step/sec: 204.313\n",
      "INFO:tensorflow:loss = 0.00127767, step = 18101 (0.489 sec)\n",
      "INFO:tensorflow:global_step/sec: 206.542\n",
      "INFO:tensorflow:loss = 0.00320919, step = 18201 (0.484 sec)\n",
      "INFO:tensorflow:global_step/sec: 163.86\n",
      "INFO:tensorflow:loss = 0.00878599, step = 18301 (0.611 sec)\n",
      "INFO:tensorflow:global_step/sec: 146.482\n",
      "INFO:tensorflow:loss = 0.00238536, step = 18401 (0.682 sec)\n",
      "INFO:tensorflow:global_step/sec: 206.885\n",
      "INFO:tensorflow:loss = 0.00984501, step = 18501 (0.483 sec)\n",
      "INFO:tensorflow:global_step/sec: 206.942\n",
      "INFO:tensorflow:loss = 0.00497066, step = 18601 (0.483 sec)\n",
      "INFO:tensorflow:global_step/sec: 206.145\n",
      "INFO:tensorflow:loss = 0.000668588, step = 18701 (0.485 sec)\n",
      "INFO:tensorflow:global_step/sec: 169\n",
      "INFO:tensorflow:loss = 0.00187809, step = 18801 (0.592 sec)\n",
      "INFO:tensorflow:global_step/sec: 166.799\n",
      "INFO:tensorflow:loss = 0.00183026, step = 18901 (0.600 sec)\n",
      "INFO:tensorflow:global_step/sec: 166.626\n",
      "INFO:tensorflow:loss = 0.0014901, step = 19001 (0.600 sec)\n",
      "INFO:tensorflow:global_step/sec: 144.481\n",
      "INFO:tensorflow:loss = 0.000471284, step = 19101 (0.693 sec)\n",
      "INFO:tensorflow:global_step/sec: 142.346\n",
      "INFO:tensorflow:loss = 0.000364932, step = 19201 (0.702 sec)\n",
      "INFO:tensorflow:global_step/sec: 153.254\n",
      "INFO:tensorflow:loss = 0.00652987, step = 19301 (0.652 sec)\n",
      "INFO:tensorflow:global_step/sec: 204.195\n",
      "INFO:tensorflow:loss = 0.000951108, step = 19401 (0.490 sec)\n",
      "INFO:tensorflow:global_step/sec: 219.001\n",
      "INFO:tensorflow:loss = 0.0023219, step = 19501 (0.456 sec)\n",
      "INFO:tensorflow:global_step/sec: 225.618\n",
      "INFO:tensorflow:loss = 0.000227142, step = 19601 (0.443 sec)\n",
      "INFO:tensorflow:global_step/sec: 225.021\n",
      "INFO:tensorflow:loss = 9.63949e-05, step = 19701 (0.444 sec)\n",
      "INFO:tensorflow:global_step/sec: 210.365\n",
      "INFO:tensorflow:loss = 0.000228906, step = 19801 (0.475 sec)\n",
      "INFO:tensorflow:global_step/sec: 222.832\n",
      "INFO:tensorflow:loss = 0.00216061, step = 19901 (0.449 sec)\n",
      "INFO:tensorflow:global_step/sec: 215.217\n",
      "INFO:tensorflow:loss = 0.00162188, step = 20001 (0.465 sec)\n",
      "INFO:tensorflow:global_step/sec: 209.467\n",
      "INFO:tensorflow:loss = 0.000795621, step = 20101 (0.478 sec)\n",
      "INFO:tensorflow:global_step/sec: 215.699\n",
      "INFO:tensorflow:loss = 0.00232103, step = 20201 (0.463 sec)\n",
      "INFO:tensorflow:global_step/sec: 218.831\n",
      "INFO:tensorflow:loss = 0.000946591, step = 20301 (0.457 sec)\n",
      "INFO:tensorflow:global_step/sec: 211.438\n",
      "INFO:tensorflow:loss = 0.000313094, step = 20401 (0.473 sec)\n",
      "INFO:tensorflow:global_step/sec: 216.272\n",
      "INFO:tensorflow:loss = 0.000953562, step = 20501 (0.462 sec)\n",
      "INFO:tensorflow:global_step/sec: 215.029\n",
      "INFO:tensorflow:loss = 0.000841321, step = 20601 (0.465 sec)\n",
      "INFO:tensorflow:global_step/sec: 210.458\n",
      "INFO:tensorflow:loss = 0.000420437, step = 20701 (0.475 sec)\n",
      "INFO:tensorflow:global_step/sec: 215.191\n",
      "INFO:tensorflow:loss = 0.00167637, step = 20801 (0.465 sec)\n",
      "INFO:tensorflow:global_step/sec: 215.387\n",
      "INFO:tensorflow:loss = 0.0012439, step = 20901 (0.464 sec)\n",
      "INFO:tensorflow:global_step/sec: 213.4\n",
      "INFO:tensorflow:loss = 0.00182237, step = 21001 (0.469 sec)\n",
      "INFO:tensorflow:global_step/sec: 212.047\n",
      "INFO:tensorflow:loss = 0.00108067, step = 21101 (0.471 sec)\n",
      "INFO:tensorflow:global_step/sec: 217.555\n",
      "INFO:tensorflow:loss = 0.00371119, step = 21201 (0.460 sec)\n",
      "INFO:tensorflow:global_step/sec: 216.464\n",
      "INFO:tensorflow:loss = 0.000990295, step = 21301 (0.462 sec)\n",
      "INFO:tensorflow:global_step/sec: 216.583\n",
      "INFO:tensorflow:loss = 0.00200678, step = 21401 (0.462 sec)\n",
      "INFO:tensorflow:global_step/sec: 214.723\n",
      "INFO:tensorflow:loss = 0.00011694, step = 21501 (0.466 sec)\n",
      "INFO:tensorflow:global_step/sec: 210.865\n",
      "INFO:tensorflow:loss = 0.000942511, step = 21601 (0.474 sec)\n",
      "INFO:tensorflow:global_step/sec: 215.419\n",
      "INFO:tensorflow:loss = 0.000876404, step = 21701 (0.464 sec)\n",
      "INFO:tensorflow:global_step/sec: 211.049\n",
      "INFO:tensorflow:loss = 0.000857327, step = 21801 (0.474 sec)\n",
      "INFO:tensorflow:global_step/sec: 216.239\n",
      "INFO:tensorflow:loss = 0.000496712, step = 21901 (0.463 sec)\n",
      "INFO:tensorflow:global_step/sec: 216.166\n",
      "INFO:tensorflow:loss = 1.86095e-05, step = 22001 (0.463 sec)\n",
      "INFO:tensorflow:global_step/sec: 215.916\n",
      "INFO:tensorflow:loss = 0.00026844, step = 22101 (0.463 sec)\n",
      "INFO:tensorflow:global_step/sec: 219.445\n",
      "INFO:tensorflow:loss = 0.00093183, step = 22201 (0.456 sec)\n",
      "INFO:tensorflow:global_step/sec: 211.363\n",
      "INFO:tensorflow:loss = 0.00208175, step = 22301 (0.473 sec)\n",
      "INFO:tensorflow:global_step/sec: 212.96\n",
      "INFO:tensorflow:loss = 0.00150858, step = 22401 (0.470 sec)\n",
      "INFO:tensorflow:global_step/sec: 215.538\n",
      "INFO:tensorflow:loss = 0.00122541, step = 22501 (0.464 sec)\n",
      "INFO:tensorflow:global_step/sec: 213.451\n",
      "INFO:tensorflow:loss = 0.00336533, step = 22601 (0.468 sec)\n",
      "INFO:tensorflow:global_step/sec: 210.774\n",
      "INFO:tensorflow:loss = 0.0010565, step = 22701 (0.474 sec)\n",
      "INFO:tensorflow:global_step/sec: 217.253\n",
      "INFO:tensorflow:loss = 0.00118512, step = 22801 (0.461 sec)\n",
      "INFO:tensorflow:global_step/sec: 211.724\n",
      "INFO:tensorflow:loss = 0.0027068, step = 22901 (0.472 sec)\n",
      "INFO:tensorflow:global_step/sec: 214.446\n",
      "INFO:tensorflow:loss = 0.000953251, step = 23001 (0.466 sec)\n",
      "INFO:tensorflow:global_step/sec: 215.862\n",
      "INFO:tensorflow:loss = 0.00389986, step = 23101 (0.463 sec)\n",
      "INFO:tensorflow:global_step/sec: 216.97\n",
      "INFO:tensorflow:loss = 0.00160573, step = 23201 (0.461 sec)\n"
     ]
    },
    {
     "name": "stdout",
     "output_type": "stream",
     "text": [
      "INFO:tensorflow:global_step/sec: 212.618\n",
      "INFO:tensorflow:loss = 0.00193569, step = 23301 (0.470 sec)\n",
      "INFO:tensorflow:global_step/sec: 215.841\n",
      "INFO:tensorflow:loss = 0.000460001, step = 23401 (0.463 sec)\n",
      "INFO:tensorflow:global_step/sec: 213.692\n",
      "INFO:tensorflow:loss = 0.000577636, step = 23501 (0.468 sec)\n",
      "INFO:tensorflow:global_step/sec: 212.73\n",
      "INFO:tensorflow:loss = 0.000578934, step = 23601 (0.470 sec)\n",
      "INFO:tensorflow:global_step/sec: 208.771\n",
      "INFO:tensorflow:loss = 0.0004731, step = 23701 (0.479 sec)\n",
      "INFO:tensorflow:global_step/sec: 216.412\n",
      "INFO:tensorflow:loss = 0.00126306, step = 23801 (0.462 sec)\n",
      "INFO:tensorflow:global_step/sec: 213.3\n",
      "INFO:tensorflow:loss = 0.00167757, step = 23901 (0.469 sec)\n",
      "INFO:tensorflow:global_step/sec: 218.115\n",
      "INFO:tensorflow:loss = 0.000704214, step = 24001 (0.458 sec)\n",
      "INFO:tensorflow:global_step/sec: 214.19\n",
      "INFO:tensorflow:loss = 0.000718476, step = 24101 (0.467 sec)\n",
      "INFO:tensorflow:global_step/sec: 216.438\n",
      "INFO:tensorflow:loss = 0.00186048, step = 24201 (0.462 sec)\n",
      "INFO:tensorflow:global_step/sec: 215.682\n",
      "INFO:tensorflow:loss = 0.000105307, step = 24301 (0.464 sec)\n",
      "INFO:tensorflow:global_step/sec: 213.752\n",
      "INFO:tensorflow:loss = 0.00153693, step = 24401 (0.468 sec)\n",
      "INFO:tensorflow:global_step/sec: 214.28\n",
      "INFO:tensorflow:loss = 0.000500249, step = 24501 (0.467 sec)\n",
      "INFO:tensorflow:global_step/sec: 213.235\n",
      "INFO:tensorflow:loss = 0.000490263, step = 24601 (0.469 sec)\n",
      "INFO:tensorflow:global_step/sec: 210.671\n",
      "INFO:tensorflow:loss = 0.000790017, step = 24701 (0.475 sec)\n",
      "INFO:tensorflow:global_step/sec: 217.92\n",
      "INFO:tensorflow:loss = 0.00110519, step = 24801 (0.459 sec)\n",
      "INFO:tensorflow:global_step/sec: 211.103\n",
      "INFO:tensorflow:loss = 0.00166808, step = 24901 (0.474 sec)\n",
      "INFO:tensorflow:global_step/sec: 214.96\n",
      "INFO:tensorflow:loss = 0.000242226, step = 25001 (0.465 sec)\n",
      "INFO:tensorflow:global_step/sec: 212.179\n",
      "INFO:tensorflow:loss = 0.000694548, step = 25101 (0.471 sec)\n",
      "INFO:tensorflow:global_step/sec: 211.309\n",
      "INFO:tensorflow:loss = 0.00198228, step = 25201 (0.473 sec)\n",
      "INFO:tensorflow:global_step/sec: 215.321\n",
      "INFO:tensorflow:loss = 0.000200497, step = 25301 (0.464 sec)\n",
      "INFO:tensorflow:global_step/sec: 214.781\n",
      "INFO:tensorflow:loss = 0.000714801, step = 25401 (0.466 sec)\n",
      "INFO:tensorflow:global_step/sec: 211.389\n",
      "INFO:tensorflow:loss = 0.000655994, step = 25501 (0.473 sec)\n",
      "INFO:tensorflow:global_step/sec: 207.709\n",
      "INFO:tensorflow:loss = 0.00118201, step = 25601 (0.481 sec)\n",
      "INFO:tensorflow:global_step/sec: 211.406\n",
      "INFO:tensorflow:loss = 0.000498771, step = 25701 (0.473 sec)\n",
      "INFO:tensorflow:global_step/sec: 208.876\n",
      "INFO:tensorflow:loss = 0.00167756, step = 25801 (0.478 sec)\n",
      "INFO:tensorflow:global_step/sec: 208.729\n",
      "INFO:tensorflow:loss = 0.0022668, step = 25901 (0.479 sec)\n",
      "INFO:tensorflow:global_step/sec: 208.091\n",
      "INFO:tensorflow:loss = 6.74691e-05, step = 26001 (0.481 sec)\n",
      "INFO:tensorflow:global_step/sec: 207.303\n",
      "INFO:tensorflow:loss = 0.000857919, step = 26101 (0.482 sec)\n",
      "INFO:tensorflow:global_step/sec: 209.166\n",
      "INFO:tensorflow:loss = 0.000844437, step = 26201 (0.478 sec)\n",
      "INFO:tensorflow:global_step/sec: 213.179\n",
      "INFO:tensorflow:loss = 0.000530821, step = 26301 (0.469 sec)\n",
      "INFO:tensorflow:global_step/sec: 206.898\n",
      "INFO:tensorflow:loss = 0.00149195, step = 26401 (0.484 sec)\n",
      "INFO:tensorflow:global_step/sec: 205.505\n",
      "INFO:tensorflow:loss = 0.00114996, step = 26501 (0.487 sec)\n",
      "INFO:tensorflow:global_step/sec: 209.286\n",
      "INFO:tensorflow:loss = 0.000703954, step = 26601 (0.478 sec)\n",
      "INFO:tensorflow:global_step/sec: 209.091\n",
      "INFO:tensorflow:loss = 0.00012149, step = 26701 (0.478 sec)\n",
      "INFO:tensorflow:global_step/sec: 209.808\n",
      "INFO:tensorflow:loss = 0.000504331, step = 26801 (0.477 sec)\n",
      "INFO:tensorflow:global_step/sec: 211.259\n",
      "INFO:tensorflow:loss = 0.000866566, step = 26901 (0.473 sec)\n",
      "INFO:tensorflow:global_step/sec: 207.58\n",
      "INFO:tensorflow:loss = 0.0007483, step = 27001 (0.482 sec)\n",
      "INFO:tensorflow:global_step/sec: 207.583\n",
      "INFO:tensorflow:loss = 0.000345829, step = 27101 (0.482 sec)\n",
      "INFO:tensorflow:global_step/sec: 210.26\n",
      "INFO:tensorflow:loss = 0.000573654, step = 27201 (0.476 sec)\n",
      "INFO:tensorflow:global_step/sec: 205.41\n",
      "INFO:tensorflow:loss = 0.00059336, step = 27301 (0.486 sec)\n",
      "INFO:tensorflow:global_step/sec: 210.888\n",
      "INFO:tensorflow:loss = 0.000194953, step = 27401 (0.475 sec)\n",
      "INFO:tensorflow:global_step/sec: 211.064\n",
      "INFO:tensorflow:loss = 0.00147546, step = 27501 (0.473 sec)\n",
      "INFO:tensorflow:global_step/sec: 210.48\n",
      "INFO:tensorflow:loss = 0.00082474, step = 27601 (0.475 sec)\n",
      "INFO:tensorflow:global_step/sec: 206.499\n",
      "INFO:tensorflow:loss = 0.000307969, step = 27701 (0.484 sec)\n",
      "INFO:tensorflow:global_step/sec: 211.292\n",
      "INFO:tensorflow:loss = 0.000197565, step = 27801 (0.473 sec)\n",
      "INFO:tensorflow:global_step/sec: 210.881\n",
      "INFO:tensorflow:loss = 0.000273013, step = 27901 (0.474 sec)\n",
      "INFO:tensorflow:global_step/sec: 205.76\n",
      "INFO:tensorflow:loss = 0.0012061, step = 28001 (0.486 sec)\n",
      "INFO:tensorflow:global_step/sec: 202.756\n",
      "INFO:tensorflow:loss = 0.000631185, step = 28101 (0.493 sec)\n",
      "INFO:tensorflow:global_step/sec: 208.786\n",
      "INFO:tensorflow:loss = 0.000930747, step = 28201 (0.479 sec)\n",
      "INFO:tensorflow:global_step/sec: 201.971\n",
      "INFO:tensorflow:loss = 0.000720547, step = 28301 (0.495 sec)\n",
      "INFO:tensorflow:global_step/sec: 210.709\n",
      "INFO:tensorflow:loss = 0.000861753, step = 28401 (0.475 sec)\n",
      "INFO:tensorflow:global_step/sec: 202.482\n",
      "INFO:tensorflow:loss = 0.000277641, step = 28501 (0.494 sec)\n",
      "INFO:tensorflow:global_step/sec: 206.504\n",
      "INFO:tensorflow:loss = 0.000260821, step = 28601 (0.484 sec)\n",
      "INFO:tensorflow:global_step/sec: 205.278\n",
      "INFO:tensorflow:loss = 0.00119995, step = 28701 (0.487 sec)\n",
      "INFO:tensorflow:global_step/sec: 212.897\n",
      "INFO:tensorflow:loss = 0.000883948, step = 28801 (0.470 sec)\n",
      "INFO:tensorflow:global_step/sec: 209.92\n",
      "INFO:tensorflow:loss = 0.000268236, step = 28901 (0.476 sec)\n",
      "INFO:tensorflow:global_step/sec: 204.547\n",
      "INFO:tensorflow:loss = 0.00113506, step = 29001 (0.489 sec)\n",
      "INFO:tensorflow:global_step/sec: 206.246\n",
      "INFO:tensorflow:loss = 0.00131327, step = 29101 (0.485 sec)\n",
      "INFO:tensorflow:global_step/sec: 207.705\n",
      "INFO:tensorflow:loss = 0.00137258, step = 29201 (0.481 sec)\n",
      "INFO:tensorflow:global_step/sec: 205.162\n",
      "INFO:tensorflow:loss = 0.00136451, step = 29301 (0.487 sec)\n",
      "INFO:tensorflow:global_step/sec: 209.283\n",
      "INFO:tensorflow:loss = 0.0011558, step = 29401 (0.478 sec)\n",
      "INFO:tensorflow:global_step/sec: 206.582\n",
      "INFO:tensorflow:loss = 0.00103526, step = 29501 (0.484 sec)\n",
      "INFO:tensorflow:global_step/sec: 203.495\n",
      "INFO:tensorflow:loss = 0.000237467, step = 29601 (0.491 sec)\n",
      "INFO:tensorflow:global_step/sec: 201.912\n",
      "INFO:tensorflow:loss = 0.000363759, step = 29701 (0.496 sec)\n",
      "INFO:tensorflow:global_step/sec: 202.445\n",
      "INFO:tensorflow:loss = 0.000700495, step = 29801 (0.494 sec)\n",
      "INFO:tensorflow:global_step/sec: 206.363\n",
      "INFO:tensorflow:loss = 0.000850763, step = 29901 (0.485 sec)\n",
      "INFO:tensorflow:global_step/sec: 208.587\n",
      "INFO:tensorflow:loss = 3.86125e-05, step = 30001 (0.479 sec)\n",
      "INFO:tensorflow:global_step/sec: 202.809\n",
      "INFO:tensorflow:loss = 0.000561409, step = 30101 (0.493 sec)\n",
      "INFO:tensorflow:global_step/sec: 203.379\n",
      "INFO:tensorflow:loss = 0.000331493, step = 30201 (0.492 sec)\n",
      "INFO:tensorflow:global_step/sec: 203.664\n",
      "INFO:tensorflow:loss = 0.00137517, step = 30301 (0.491 sec)\n",
      "INFO:tensorflow:global_step/sec: 205.134\n",
      "INFO:tensorflow:loss = 0.00105892, step = 30401 (0.487 sec)\n",
      "INFO:tensorflow:global_step/sec: 206.467\n",
      "INFO:tensorflow:loss = 0.000460833, step = 30501 (0.484 sec)\n",
      "INFO:tensorflow:global_step/sec: 208.458\n",
      "INFO:tensorflow:loss = 0.00125972, step = 30601 (0.480 sec)\n",
      "INFO:tensorflow:global_step/sec: 201.319\n",
      "INFO:tensorflow:loss = 0.000971202, step = 30701 (0.497 sec)\n",
      "INFO:tensorflow:global_step/sec: 206.206\n",
      "INFO:tensorflow:loss = 0.0013289, step = 30801 (0.485 sec)\n",
      "INFO:tensorflow:global_step/sec: 207.052\n",
      "INFO:tensorflow:loss = 0.00128003, step = 30901 (0.483 sec)\n",
      "INFO:tensorflow:global_step/sec: 207.876\n",
      "INFO:tensorflow:loss = 0.00100337, step = 31001 (0.481 sec)\n",
      "INFO:tensorflow:global_step/sec: 206.933\n",
      "INFO:tensorflow:loss = 0.00107137, step = 31101 (0.483 sec)\n",
      "INFO:tensorflow:global_step/sec: 201.304\n",
      "INFO:tensorflow:loss = 0.000367889, step = 31201 (0.497 sec)\n",
      "INFO:tensorflow:global_step/sec: 205.845\n",
      "INFO:tensorflow:loss = 0.000241854, step = 31301 (0.486 sec)\n"
     ]
    },
    {
     "name": "stdout",
     "output_type": "stream",
     "text": [
      "INFO:tensorflow:global_step/sec: 206.469\n",
      "INFO:tensorflow:loss = 0.000548003, step = 31401 (0.484 sec)\n",
      "INFO:tensorflow:global_step/sec: 207.133\n",
      "INFO:tensorflow:loss = 0.000182311, step = 31501 (0.483 sec)\n",
      "INFO:tensorflow:global_step/sec: 205.94\n",
      "INFO:tensorflow:loss = 0.000157721, step = 31601 (0.485 sec)\n",
      "INFO:tensorflow:global_step/sec: 202.618\n",
      "INFO:tensorflow:loss = 0.000687681, step = 31701 (0.494 sec)\n",
      "INFO:tensorflow:global_step/sec: 206.572\n",
      "INFO:tensorflow:loss = 0.000149343, step = 31801 (0.484 sec)\n",
      "INFO:tensorflow:global_step/sec: 204.137\n",
      "INFO:tensorflow:loss = 0.000716847, step = 31901 (0.490 sec)\n",
      "INFO:tensorflow:global_step/sec: 206.224\n",
      "INFO:tensorflow:loss = 0.000197099, step = 32001 (0.485 sec)\n",
      "INFO:tensorflow:global_step/sec: 208.016\n",
      "INFO:tensorflow:loss = 0.00020142, step = 32101 (0.481 sec)\n",
      "INFO:tensorflow:global_step/sec: 207.333\n",
      "INFO:tensorflow:loss = 0.000950564, step = 32201 (0.482 sec)\n",
      "INFO:tensorflow:global_step/sec: 206.616\n",
      "INFO:tensorflow:loss = 0.000478452, step = 32301 (0.484 sec)\n",
      "INFO:tensorflow:global_step/sec: 203.132\n",
      "INFO:tensorflow:loss = 0.000144719, step = 32401 (0.492 sec)\n",
      "INFO:tensorflow:global_step/sec: 203.67\n",
      "INFO:tensorflow:loss = 0.000508175, step = 32501 (0.491 sec)\n",
      "INFO:tensorflow:global_step/sec: 205.905\n",
      "INFO:tensorflow:loss = 0.000114129, step = 32601 (0.486 sec)\n",
      "INFO:tensorflow:global_step/sec: 204.758\n",
      "INFO:tensorflow:loss = 0.000920422, step = 32701 (0.488 sec)\n",
      "INFO:tensorflow:global_step/sec: 207.078\n",
      "INFO:tensorflow:loss = 0.000881146, step = 32801 (0.483 sec)\n",
      "INFO:tensorflow:global_step/sec: 204.169\n",
      "INFO:tensorflow:loss = 0.000428579, step = 32901 (0.490 sec)\n",
      "INFO:tensorflow:global_step/sec: 207.06\n",
      "INFO:tensorflow:loss = 0.000409623, step = 33001 (0.483 sec)\n",
      "INFO:tensorflow:global_step/sec: 202.114\n",
      "INFO:tensorflow:loss = 0.00189231, step = 33101 (0.495 sec)\n",
      "INFO:tensorflow:global_step/sec: 206.199\n",
      "INFO:tensorflow:loss = 0.000795905, step = 33201 (0.485 sec)\n",
      "INFO:tensorflow:global_step/sec: 204.157\n",
      "INFO:tensorflow:loss = 0.00046268, step = 33301 (0.490 sec)\n",
      "INFO:tensorflow:global_step/sec: 207.239\n",
      "INFO:tensorflow:loss = 0.00113855, step = 33401 (0.483 sec)\n",
      "INFO:tensorflow:global_step/sec: 206.962\n",
      "INFO:tensorflow:loss = 0.000152743, step = 33501 (0.483 sec)\n",
      "INFO:tensorflow:global_step/sec: 205.073\n",
      "INFO:tensorflow:loss = 0.000811236, step = 33601 (0.488 sec)\n",
      "INFO:tensorflow:global_step/sec: 208.938\n",
      "INFO:tensorflow:loss = 0.000809916, step = 33701 (0.478 sec)\n",
      "INFO:tensorflow:global_step/sec: 204.788\n",
      "INFO:tensorflow:loss = 0.000918208, step = 33801 (0.488 sec)\n",
      "INFO:tensorflow:global_step/sec: 201.252\n",
      "INFO:tensorflow:loss = 0.000935263, step = 33901 (0.497 sec)\n",
      "INFO:tensorflow:global_step/sec: 204.726\n",
      "INFO:tensorflow:loss = 0.000881325, step = 34001 (0.489 sec)\n",
      "INFO:tensorflow:global_step/sec: 203.756\n",
      "INFO:tensorflow:loss = 0.000615244, step = 34101 (0.491 sec)\n",
      "INFO:tensorflow:global_step/sec: 206.698\n",
      "INFO:tensorflow:loss = 0.00106184, step = 34201 (0.484 sec)\n",
      "INFO:tensorflow:global_step/sec: 201.774\n",
      "INFO:tensorflow:loss = 0.000245821, step = 34301 (0.495 sec)\n",
      "INFO:tensorflow:global_step/sec: 202.514\n",
      "INFO:tensorflow:loss = 0.000326162, step = 34401 (0.494 sec)\n",
      "INFO:tensorflow:global_step/sec: 207.657\n",
      "INFO:tensorflow:loss = 0.00041318, step = 34501 (0.481 sec)\n",
      "INFO:tensorflow:global_step/sec: 204.543\n",
      "INFO:tensorflow:loss = 0.000476066, step = 34601 (0.490 sec)\n",
      "INFO:tensorflow:global_step/sec: 207.564\n",
      "INFO:tensorflow:loss = 0.00120529, step = 34701 (0.481 sec)\n",
      "INFO:tensorflow:global_step/sec: 204.926\n",
      "INFO:tensorflow:loss = 0.000769799, step = 34801 (0.488 sec)\n",
      "INFO:tensorflow:global_step/sec: 202.484\n",
      "INFO:tensorflow:loss = 0.000578055, step = 34901 (0.494 sec)\n",
      "INFO:tensorflow:global_step/sec: 206.479\n",
      "INFO:tensorflow:loss = 0.000442024, step = 35001 (0.484 sec)\n",
      "INFO:tensorflow:global_step/sec: 201.469\n",
      "INFO:tensorflow:loss = 0.000854468, step = 35101 (0.497 sec)\n",
      "INFO:tensorflow:global_step/sec: 201.153\n",
      "INFO:tensorflow:loss = 0.000272656, step = 35201 (0.497 sec)\n",
      "INFO:tensorflow:global_step/sec: 149.088\n",
      "INFO:tensorflow:loss = 0.00024963, step = 35301 (0.671 sec)\n",
      "INFO:tensorflow:global_step/sec: 173.726\n",
      "INFO:tensorflow:loss = 0.00106939, step = 35401 (0.575 sec)\n",
      "INFO:tensorflow:global_step/sec: 144.766\n",
      "INFO:tensorflow:loss = 0.000302915, step = 35501 (0.691 sec)\n",
      "INFO:tensorflow:global_step/sec: 168.525\n",
      "INFO:tensorflow:loss = 0.000416483, step = 35601 (0.593 sec)\n",
      "INFO:tensorflow:global_step/sec: 204.408\n",
      "INFO:tensorflow:loss = 0.000611379, step = 35701 (0.491 sec)\n",
      "INFO:tensorflow:global_step/sec: 173.043\n",
      "INFO:tensorflow:loss = 0.000459858, step = 35801 (0.576 sec)\n",
      "INFO:tensorflow:global_step/sec: 185.064\n",
      "INFO:tensorflow:loss = 0.000544892, step = 35901 (0.540 sec)\n",
      "INFO:tensorflow:global_step/sec: 213.673\n",
      "INFO:tensorflow:loss = 0.000429645, step = 36001 (0.468 sec)\n",
      "INFO:tensorflow:global_step/sec: 173.942\n",
      "INFO:tensorflow:loss = 0.00099899, step = 36101 (0.575 sec)\n",
      "INFO:tensorflow:global_step/sec: 206.958\n",
      "INFO:tensorflow:loss = 0.000661802, step = 36201 (0.483 sec)\n",
      "INFO:tensorflow:global_step/sec: 179.952\n",
      "INFO:tensorflow:loss = 0.000226923, step = 36301 (0.555 sec)\n",
      "INFO:tensorflow:global_step/sec: 213.446\n",
      "INFO:tensorflow:loss = 0.000683845, step = 36401 (0.469 sec)\n",
      "INFO:tensorflow:global_step/sec: 179.543\n",
      "INFO:tensorflow:loss = 0.000459834, step = 36501 (0.557 sec)\n",
      "INFO:tensorflow:global_step/sec: 178.359\n",
      "INFO:tensorflow:loss = 0.000286524, step = 36601 (0.560 sec)\n",
      "INFO:tensorflow:global_step/sec: 212.286\n",
      "INFO:tensorflow:loss = 0.000347136, step = 36701 (0.471 sec)\n",
      "INFO:tensorflow:global_step/sec: 209.746\n",
      "INFO:tensorflow:loss = 0.000840433, step = 36801 (0.477 sec)\n",
      "INFO:tensorflow:global_step/sec: 211.273\n",
      "INFO:tensorflow:loss = 0.000485665, step = 36901 (0.473 sec)\n",
      "INFO:tensorflow:global_step/sec: 219.263\n",
      "INFO:tensorflow:loss = 0.000524635, step = 37001 (0.456 sec)\n",
      "INFO:tensorflow:global_step/sec: 215.363\n",
      "INFO:tensorflow:loss = 0.000240721, step = 37101 (0.464 sec)\n",
      "INFO:tensorflow:global_step/sec: 219.981\n",
      "INFO:tensorflow:loss = 0.000312367, step = 37201 (0.455 sec)\n",
      "INFO:tensorflow:global_step/sec: 216.763\n",
      "INFO:tensorflow:loss = 0.000577882, step = 37301 (0.461 sec)\n",
      "INFO:tensorflow:global_step/sec: 212.324\n",
      "INFO:tensorflow:loss = 0.00016731, step = 37401 (0.472 sec)\n",
      "INFO:tensorflow:global_step/sec: 205.023\n",
      "INFO:tensorflow:loss = 0.000101914, step = 37501 (0.488 sec)\n",
      "INFO:tensorflow:global_step/sec: 197.614\n",
      "INFO:tensorflow:loss = 0.000279575, step = 37601 (0.506 sec)\n",
      "INFO:tensorflow:global_step/sec: 217.972\n",
      "INFO:tensorflow:loss = 7.18215e-05, step = 37701 (0.460 sec)\n",
      "INFO:tensorflow:global_step/sec: 218.339\n",
      "INFO:tensorflow:loss = 0.000211501, step = 37801 (0.457 sec)\n",
      "INFO:tensorflow:global_step/sec: 227.237\n",
      "INFO:tensorflow:loss = 0.00161577, step = 37901 (0.440 sec)\n",
      "INFO:tensorflow:global_step/sec: 223.582\n",
      "INFO:tensorflow:loss = 0.000173399, step = 38001 (0.448 sec)\n",
      "INFO:tensorflow:global_step/sec: 220.853\n",
      "INFO:tensorflow:loss = 0.00112188, step = 38101 (0.453 sec)\n",
      "INFO:tensorflow:global_step/sec: 222.576\n",
      "INFO:tensorflow:loss = 0.000663832, step = 38201 (0.449 sec)\n",
      "INFO:tensorflow:global_step/sec: 223.528\n",
      "INFO:tensorflow:loss = 8.43411e-05, step = 38301 (0.447 sec)\n",
      "INFO:tensorflow:global_step/sec: 220.713\n",
      "INFO:tensorflow:loss = 0.000100784, step = 38401 (0.453 sec)\n",
      "INFO:tensorflow:global_step/sec: 221.161\n",
      "INFO:tensorflow:loss = 0.000414753, step = 38501 (0.452 sec)\n",
      "INFO:tensorflow:global_step/sec: 216.791\n",
      "INFO:tensorflow:loss = 0.000828294, step = 38601 (0.461 sec)\n",
      "INFO:tensorflow:global_step/sec: 208.672\n",
      "INFO:tensorflow:loss = 0.000358774, step = 38701 (0.479 sec)\n",
      "INFO:tensorflow:global_step/sec: 209.817\n",
      "INFO:tensorflow:loss = 0.000192998, step = 38801 (0.477 sec)\n",
      "INFO:tensorflow:global_step/sec: 216.562\n",
      "INFO:tensorflow:loss = 0.00145104, step = 38901 (0.462 sec)\n",
      "INFO:tensorflow:global_step/sec: 213.425\n",
      "INFO:tensorflow:loss = 0.0001315, step = 39001 (0.469 sec)\n",
      "INFO:tensorflow:global_step/sec: 215.085\n",
      "INFO:tensorflow:loss = 0.000921957, step = 39101 (0.465 sec)\n",
      "INFO:tensorflow:global_step/sec: 215.382\n",
      "INFO:tensorflow:loss = 0.000393361, step = 39201 (0.464 sec)\n",
      "INFO:tensorflow:global_step/sec: 215.028\n",
      "INFO:tensorflow:loss = 0.000295259, step = 39301 (0.465 sec)\n",
      "INFO:tensorflow:global_step/sec: 214.49\n",
      "INFO:tensorflow:loss = 0.000674726, step = 39401 (0.466 sec)\n"
     ]
    },
    {
     "name": "stdout",
     "output_type": "stream",
     "text": [
      "INFO:tensorflow:global_step/sec: 216.486\n",
      "INFO:tensorflow:loss = 0.000210663, step = 39501 (0.462 sec)\n",
      "INFO:tensorflow:global_step/sec: 213.909\n",
      "INFO:tensorflow:loss = 0.000567543, step = 39601 (0.467 sec)\n",
      "INFO:tensorflow:global_step/sec: 208.815\n",
      "INFO:tensorflow:loss = 9.82609e-05, step = 39701 (0.479 sec)\n",
      "INFO:tensorflow:global_step/sec: 211.068\n",
      "INFO:tensorflow:loss = 0.00067276, step = 39801 (0.474 sec)\n",
      "INFO:tensorflow:global_step/sec: 214.259\n",
      "INFO:tensorflow:loss = 0.000958653, step = 39901 (0.467 sec)\n",
      "INFO:tensorflow:Saving checkpoints for 40000 into /var/folders/rz/pq7kq6qn5k757n49mq6f4gth0000gn/T/tmpateyigox/model.ckpt.\n",
      "INFO:tensorflow:Loss for final step: 0.000424012.\n"
     ]
    },
    {
     "data": {
      "text/plain": [
       "SKCompat()"
      ]
     },
     "execution_count": 10,
     "metadata": {},
     "output_type": "execute_result"
    }
   ],
   "source": [
    "import tensorflow as tf\n",
    "\n",
    "config = tf.contrib.learn.RunConfig(tf_random_seed=42) # not shown in the config\n",
    "\n",
    "feature_cols = tf.contrib.learn.infer_real_valued_columns_from_input(X_train)\n",
    "dnn_clf = tf.contrib.learn.DNNClassifier(hidden_units=[300,100], n_classes=10,\n",
    "                                         feature_columns=feature_cols, config=config)\n",
    "dnn_clf = tf.contrib.learn.SKCompat(dnn_clf) # if TensorFlow >= 1.1\n",
    "dnn_clf.fit(X_train, y_train, batch_size=50, steps=40000)"
   ]
  },
  {
   "cell_type": "code",
   "execution_count": 11,
   "metadata": {},
   "outputs": [
    {
     "name": "stdout",
     "output_type": "stream",
     "text": [
      "INFO:tensorflow:Restoring parameters from /var/folders/rz/pq7kq6qn5k757n49mq6f4gth0000gn/T/tmpateyigox/model.ckpt-40000\n"
     ]
    },
    {
     "data": {
      "text/plain": [
       "0.98250000000000004"
      ]
     },
     "execution_count": 11,
     "metadata": {},
     "output_type": "execute_result"
    }
   ],
   "source": [
    "from sklearn.metrics import accuracy_score\n",
    "\n",
    "y_pred = dnn_clf.predict(X_test)\n",
    "accuracy_score(y_test, y_pred['classes'])"
   ]
  },
  {
   "cell_type": "code",
   "execution_count": 12,
   "metadata": {},
   "outputs": [
    {
     "data": {
      "text/plain": [
       "0.073724042319017094"
      ]
     },
     "execution_count": 12,
     "metadata": {},
     "output_type": "execute_result"
    }
   ],
   "source": [
    "from sklearn.metrics import log_loss # to evaluate\n",
    "\n",
    "y_pred_proba = y_pred['probabilities']\n",
    "log_loss(y_test, y_pred_proba)"
   ]
  },
  {
   "cell_type": "markdown",
   "metadata": {},
   "source": [
    "## Training a DNN Using Plain TensorFlow\n",
    "## Using plain TensorFlow"
   ]
  },
  {
   "cell_type": "markdown",
   "metadata": {},
   "source": [
    "- Minibatch Gradient Descent 를 이용해 MNIST 데이터를 학습시켜 보자.\n",
    " - Construction phase: building the TensorFlow gratph\n",
    " - Execution phase: actually run the graph to train the model"
   ]
  },
  {
   "cell_type": "markdown",
   "metadata": {},
   "source": [
    "### Construction Phase"
   ]
  },
  {
   "cell_type": "code",
   "execution_count": 13,
   "metadata": {
    "collapsed": true
   },
   "outputs": [],
   "source": [
    "import tensorflow as tf\n",
    "\n",
    "n_inputs = 28*28  # MNIST\n",
    "n_hidden1 = 300 # num. of hidden neurons in each layer\n",
    "n_hidden2 = 100 \n",
    "n_outputs = 10 "
   ]
  },
  {
   "cell_type": "markdown",
   "metadata": {},
   "source": [
    "- placeholder nodes: trainig data와 target을 나타내자\n",
    " -  batch_size, 입력 형태와 트레이닝 data의 입력 형태를 정의\n",
    " - images_placeholder = tf.placeholder(<kbd>tf.float32</kbd>, shape=(<kbd>batch_size</kbd>, <kbd>mnist.IMAGE_PIXELS</kbd>))"
   ]
  },
  {
   "cell_type": "code",
   "execution_count": 14,
   "metadata": {
    "collapsed": true
   },
   "outputs": [],
   "source": [
    "reset_graph()\n",
    "\n",
    "X = tf.placeholder(tf.float32, shape=(None, n_inputs), name=\"X\")# represent training data\n",
    "y = tf.placeholder(tf.int64, shape=(None), name=\"y\") # represent target"
   ]
  },
  {
   "cell_type": "markdown",
   "metadata": {},
   "source": [
    "- X의 모양은 부분적으로 만 정의된다.\n",
    "- 첫 번째 차원의 인스턴스와 두 번째 차원의 피쳐를 가진 2D 텐서 (즉, 행렬)가 될 것이며, 피쳐의 수는 28 x 28 (픽셀 당 하나의 피쳐)이 될 것이라는 것을 알고 있습니다. 하지만 각 훈련 배치에 몇 개의 인스턴스가 포함되는지는 아직 알 수 없습니다. 그래서 X의 모양은 (None, n_inputs)이다. \n",
    "- 마찬가지로 y는 인스턴스 당 하나의 엔트리를 가진 1D 텐서가되지만이 시점에서 트레이닝 배치의 크기를 알 수 없기 때문에 모양은 (없음)이다."
   ]
  },
  {
   "cell_type": "markdown",
   "metadata": {},
   "source": [
    "- 이제 실제 신경망을 만들어 보겠습니다. 자리 표시 자 X는 입력 레이어의 역할을 한다.\n",
    "- 실행 단계에서 한 번에 하나의 학습 배치마다 대체됩니다 (학습 배치의 모든 인스턴스는 신경 네트워크에 의해 동시에 처리된다). ☆\n",
    "- 이제 두 개의 숨겨진 레이어와 출력 레이어를 만들자.\n",
    "- 두 개의 숨겨진 레이어는 거의 동일합니다. 연결되어있는 입력과 포함 된 뉴런의 수에 따라 다르다.\n",
    "- 출력 계층도 매우 유사하지만 ReLU 활성화 기능 대신 softmax 활성화 기능을 사용한다. \n",
    "- neuron_layer () 함수를 만들어서 한번에 여러개의 레이어를 만들자. 입력, 뉴런 수, 활성화 함수 및 레이어 이름을 지정하는 매개 변수가 필요하다."
   ]
  },
  {
   "cell_type": "code",
   "execution_count": 15,
   "metadata": {
    "collapsed": true
   },
   "outputs": [],
   "source": [
    "def neuron_layer(X, n_neurons, name, activation=None):  # neuron layer를 만드는 함수\n",
    "    with tf.name_scope(name):\n",
    "        n_inputs = int(X.get_shape()[1])\n",
    "        stddev = 2 / np.sqrt(n_inputs)\n",
    "        init = tf.truncated_normal((n_inputs, n_neurons), stddev=stddev)\n",
    "        W = tf.Variable(init, name=\"kernel\")\n",
    "        b = tf.Variable(tf.zeros([n_neurons]), name=\"bias\")\n",
    "        Z = tf.matmul(X, W) + b\n",
    "        if activation is not None:\n",
    "            return activation(Z)\n",
    "        else:\n",
    "            return Z"
   ]
  },
  {
   "cell_type": "markdown",
   "metadata": {},
   "source": [
    "1. 먼저 레이어의 이름을 사용하여 name scope를 만든다.이 뉴런 레이어에는 필요한 모든 계산 노드가 포함된다. 선택 사항이지만 노드가 잘 구성되어 있으면 그래프가 TensorBoard에서 훨씬 더 멋지게 보입니다. \n",
    "2. 다음으로, 입력 수를 얻는데, 입력 행렬의 모양을 찾아 두 번째 차원의 크기를 가져 온다.  (첫 번째 차원은 인스턴스 용입니다). \n",
    "3. 다음 세 줄은 가중치 행렬을 보유 할 W 변수를 작성한다. 각 입력과 각 뉴런 사이의 모든 연결 가중치를 포함하는 2D 텐서가 된다. 따라서 그 모양은 (n_inputs, n_neurons)가 된다. 표준 편차가 2 / ninputs 인 truncated normal (Gaussian) 분포를 사용하여 무작위로 초기화됩니다. 이 특정 표준 편차를 사용하면 알고리즘이 훨씬 빨리 수렴하는 데 도움이 된다 (이는 신경 네트워크의 효율성에 엄청난 영향을 끼친 작은 조정 중 하나). 경사 하강 알고리즘이 대칭문제를 피하기 위해 모든 숨겨진 레이어에 대해 연결 가중치를 임의로 초기화하는 것이 중요하다 . \n",
    "4. 다음 줄은 0으로 초기화 되는 bias  b 변수를 만듭니다 (여기서는 대칭 문제 없음) 각 뉴런 당 하나의 바이어스 매개 변수가 있다. \n",
    "5. 그런 다음 z = X · W + b를 계산하기 위한 부분 그래프를 만든다. 이 벡터화 된 구현은 배치의 모든 인스턴스에 대해서 레이어와 뉴런 각각 입력의 가중치 합계와 바이어스 합을 효율적으로 계산한다.\n",
    "6. 마지막으로 활성화 매개 변수가 \"relu\"로 설정된 경우 코드에서 relu (z) (즉, max (0, z))를 반환하거나 아니면 z를 반환한다."
   ]
  },
  {
   "cell_type": "code",
   "execution_count": 16,
   "metadata": {
    "collapsed": true
   },
   "outputs": [],
   "source": [
    "with tf.name_scope(\"dnn\"):  # deep neural network를 만들자\n",
    "    hidden1 = neuron_layer(X, n_hidden1, name=\"hidden1\",  # 첫번째 hidden layer에서는 X를 input으로 받는다.\n",
    "                           activation=tf.nn.relu)\n",
    "    hidden2 = neuron_layer(hidden1, n_hidden2, name=\"hidden2\",  # hidden1을 ouput을 input으로 받는다.\n",
    "                           activation=tf.nn.relu)\n",
    "    logits = neuron_layer(hidden2, n_outputs, name=\"outputs\") # ouput layer에서는 hidden2을 ouput을 input으로 받는다."
   ]
  },
  {
   "cell_type": "markdown",
   "metadata": {},
   "source": [
    "- 명확하게 보기 위해 name scope를 사용했다. \n",
    "- logits는 softmax 활성화 함수를 거치기 전에 신경망의 출력입니다. 최적화를 위해 나중에 softmax 계산은 나중에 처리 할 것입니다."
   ]
  },
  {
   "cell_type": "code",
   "execution_count": 17,
   "metadata": {
    "collapsed": true
   },
   "outputs": [],
   "source": [
    "with tf.name_scope(\"loss\"):\n",
    "    xentropy = tf.nn.sparse_softmax_cross_entropy_with_logits(labels=y,\n",
    "                                                              logits=logits)\n",
    "    loss = tf.reduce_mean(xentropy, name=\"loss\")"
   ]
  },
  {
   "cell_type": "markdown",
   "metadata": {},
   "source": [
    "- 이제 우리는 신경망 모델을 사용할 준비가되었습니다. 우리는 이를 훈련시키는 데 사용할 Cost Function을 정의해야 한다.\n",
    "- 교차 엔트로피는 목표 클래스에 대해 낮은 확률로 추정하는 모델에 불이익을 준다. TensorFlow는 교차 엔트로피를 계산하는 몇 가지 기능을 제공하는데, 우리는 `sparse_soft max_cross_entropy_with_logits ()`를 사용한다.\n",
    "- `sparse_soft max_cross_entropy_with_logits ()`: \"logits\"(즉, softmax 활성화 함수를 거치기 전에 네트워크의 출력)를 기반으로 크로스 엔트로피를 계산합니다. 0에서부터 클래스 수 - 1 (우리의 경우 0에서 9)개의 라벨링을 한다. 이것은 각 인스턴스 마다 교차 엔트로피를 포함하는 1D 텐서를 출력한다. 이때 TensorFlow의 `reduce_mean ()` 함수를 사용하여 모든 인스턴스에 대한 평균 교차 엔트로피를 계산할 수 있다.\n",
    "> `sparse_softmax_cross_entropy_with_logits ()` 함수는 softmax 활성화 함수를 적용한 다음 크로스 엔트로피를 계산하는 것과 동일하지만보다 효율적이며 logits = 0 과 같은 사례를 적절하게 처리합니다. 따라서 softmax 활성화를 적용하지 않았다.\n",
    "`softmax_cross_entropy_with_logits ()`라는 또 다른 함수는 이 함수는 one-hot 벡터의 형태로 레이블을 취합니다 (int에서 0에서 클래스 수 빼기 대신)"
   ]
  },
  {
   "cell_type": "markdown",
   "metadata": {},
   "source": [
    "신경망모델, 비용함수를 정의했으니, 비용 함수를 최소화하기 위해 모델 매개 변수를 조정할 `GradientDescentOptimizer`을 정의하자"
   ]
  },
  {
   "cell_type": "code",
   "execution_count": 18,
   "metadata": {
    "collapsed": true
   },
   "outputs": [],
   "source": [
    "learning_rate = 0.01\n",
    "\n",
    "with tf.name_scope(\"train\"):\n",
    "    optimizer = tf.train.GradientDescentOptimizer(learning_rate)\n",
    "    training_op = optimizer.minimize(loss)"
   ]
  },
  {
   "cell_type": "markdown",
   "metadata": {},
   "source": [
    "- 구축 단계의 마지막 중요한 단계는 모델 평가 방법을 지정하는 것이다. 여기서는 단순히 성능 척도로서 정확도를 사용한다.\n",
    "- 첫째, 각 인스턴스에 대해 가장 높은 logit 값이 target 클래스에 해당하는지 여부를 확인하여 신경망의 예측이 올바른지 확인한다. \n",
    "- 이를 위해 in_top_k () 함수를 사용하자. 부울 값으로 가득 찬 1D 텐서를 반환하므로써 부울을 부동 소수점 형으로 캐스팅 한 다음 평균을 계산해야한다. 이렇게하면 네트워크의 전체적인 정확성을 얻을 수 있다."
   ]
  },
  {
   "cell_type": "code",
   "execution_count": 19,
   "metadata": {
    "collapsed": true
   },
   "outputs": [],
   "source": [
    "with tf.name_scope(\"eval\"):\n",
    "    correct = tf.nn.in_top_k(logits, y, 1)\n",
    "    accuracy = tf.reduce_mean(tf.cast(correct, tf.float32))\n",
    "    accuracy_summary = tf.summary.scalar('accuracy', accuracy)"
   ]
  },
  {
   "cell_type": "markdown",
   "metadata": {},
   "source": [
    "평소처럼 모든 변수를 초기화하는 노드를 만들어야하며, 훈련 된 모델 매개 변수를 디스크에 저장하는 `Saver`도 만들자."
   ]
  },
  {
   "cell_type": "code",
   "execution_count": 20,
   "metadata": {
    "collapsed": true
   },
   "outputs": [],
   "source": [
    "init = tf.global_variables_initializer()\n",
    "saver = tf.train.Saver()"
   ]
  },
  {
   "cell_type": "markdown",
   "metadata": {},
   "source": [
    "입력 및 대상에 대한 place holder을 만들었고, 신경 층을 만드는 함수를 만들고 DNN을 만드는 데 사용했으며, 비용 함수를 정의했다. 최적화 도구를 만들고 마지막으로 성능 측정 값을 정의했습니다. 이제 실행 단계로 넘어가자"
   ]
  },
  {
   "cell_type": "markdown",
   "metadata": {},
   "source": [
    "### Execution Phase"
   ]
  },
  {
   "cell_type": "markdown",
   "metadata": {},
   "source": [
    "- MNIST를 로드를(ScikitLearn 대신) TensorFlow로 데이터를 가져 와서 크기를 조정하고 (0에서 1 사이), 셔플 링하고. 한 번에 하나의 미니 배치를 로드하는 간단한 함수를 제공하니 이용해보자"
   ]
  },
  {
   "cell_type": "code",
   "execution_count": 21,
   "metadata": {},
   "outputs": [
    {
     "name": "stdout",
     "output_type": "stream",
     "text": [
      "Extracting /tmp/data/train-images-idx3-ubyte.gz\n",
      "Extracting /tmp/data/train-labels-idx1-ubyte.gz\n",
      "Extracting /tmp/data/t10k-images-idx3-ubyte.gz\n",
      "Extracting /tmp/data/t10k-labels-idx1-ubyte.gz\n"
     ]
    }
   ],
   "source": [
    "from tensorflow.examples.tutorials.mnist import input_data\n",
    "mnist = input_data.read_data_sets(\"/tmp/data/\")"
   ]
  },
  {
   "cell_type": "markdown",
   "metadata": {},
   "source": [
    "- 실행하려는 에포크의 수와 미니 배치의 크기를 정의하자"
   ]
  },
  {
   "cell_type": "code",
   "execution_count": 22,
   "metadata": {
    "collapsed": true
   },
   "outputs": [],
   "source": [
    "n_epochs = 40\n",
    "batch_size = 50"
   ]
  },
  {
   "cell_type": "markdown",
   "metadata": {},
   "source": [
    "- 학습을 시키자"
   ]
  },
  {
   "cell_type": "markdown",
   "metadata": {},
   "source": [
    "- 이 코드는 TensorFlow 세션을 열고 모든 변수를 초기화하는 init 노드를 실행한다. 그런 다음 기본 학습 루프를 실행한다. \n",
    "- 각 에포크마다 코드는 학습 데이터 세트 크기에 해당하는 미니 배치를 반복 수행 한다. \n",
    "- 각 미니 배치는 next_batch () 메소드를 통해 가져오고 코드는 학습 작업을 실행하면서, 현재 미니 배치 입력 데이터와 target을 제공한다.\n",
    "- 다음으로, 마지막 에포크에서, 코드는 마지막 미니 배치와 전체 학습 세트에서 모델을 평가하고 결과를 출력한다.\n",
    "- 마지막으로 모델 매개 변수가 디스크에 저장된다."
   ]
  },
  {
   "cell_type": "code",
   "execution_count": null,
   "metadata": {
    "collapsed": true
   },
   "outputs": [],
   "source": [
    "with tf.Session() as sess:\n",
    "    init.run()\n",
    "    for epoch in range(n_epochs):\n",
    "        for iteration in range(mnist.train.num_examples // batch_size):\n",
    "            X_batch, y_batch = mnist.train.next_batch(batch_size)\n",
    "            sess.run(training_op, feed_dict={X: X_batch, y: y_batch})\n",
    "        acc_train = accuracy.eval(feed_dict={X: X_batch, y: y_batch})\n",
    "        acc_test = accuracy.eval(feed_dict={X: mnist.test.images,\n",
    "                                            y: mnist.test.labels})\n",
    "        print(epoch, \"Train accuracy:\", acc_train, \"Test accuracy:\", acc_test)\n",
    "\n",
    "    save_path = saver.save(sess, \"./my_model_final.ckpt\")"
   ]
  },
  {
   "cell_type": "markdown",
   "metadata": {},
   "source": [
    "### Using the Neural Network\n",
    "- nn을 학습시켰으니, 이제 예측하는데 써먹어보자\n",
    "- 동일한 구성 단계를 재사용 할 수 있지만, 다음과 같이 실행 단계 아래와 같이 변경시켜보자"
   ]
  },
  {
   "cell_type": "code",
   "execution_count": null,
   "metadata": {
    "collapsed": true
   },
   "outputs": [],
   "source": [
    "with tf.Session() as sess:\n",
    "    saver.restore(sess, \"./my_model_final.ckpt\") # or better, use save_path\n",
    "    X_new_scaled = mnist.test.images[:20]\n",
    "    Z = logits.eval(feed_dict={X: X_new_scaled})\n",
    "    y_pred = np.argmax(Z, axis=1)"
   ]
  },
  {
   "cell_type": "markdown",
   "metadata": {},
   "source": [
    "- 먼저 디스크에서 모델 매개 변수를 로드하자.\n",
    "- 그런 다음 분류 할 새 이미지를로드합니다. \n",
    "- 교육 데이터의 경우와 feature scaling 을 적용해야 한다. (이 경우 크기를 0에서 1로 조정). 그런 다음 코드는 logits 노드를 평가합니다. \n",
    "- 모든 예상 클래스 확률을 알고 싶다면 softmax () 함수를 logits에 적용해야하지만,\n",
    " - argmax () 함수를 수행함으로써 클래스를 예측하려는 경우 가장 높은 logit 값을 가진 클래스를 선택할 수 있다. "
   ]
  },
  {
   "cell_type": "code",
   "execution_count": null,
   "metadata": {
    "collapsed": true
   },
   "outputs": [],
   "source": [
    "print(\"Predicted classes:\", y_pred)\n",
    "print(\"Actual classes:   \", mnist.test.labels[:20])"
   ]
  },
  {
   "cell_type": "code",
   "execution_count": null,
   "metadata": {
    "collapsed": true
   },
   "outputs": [],
   "source": [
    "from IPython.display import clear_output, Image, display, HTML\n",
    "\n",
    "def strip_consts(graph_def, max_const_size=32):\n",
    "    \"\"\"Strip large constant values from graph_def.\"\"\"\n",
    "    strip_def = tf.GraphDef()\n",
    "    for n0 in graph_def.node:\n",
    "        n = strip_def.node.add() \n",
    "        n.MergeFrom(n0)\n",
    "        if n.op == 'Const':\n",
    "            tensor = n.attr['value'].tensor\n",
    "            size = len(tensor.tensor_content)\n",
    "            if size > max_const_size:\n",
    "                tensor.tensor_content = b\"<stripped %d bytes>\"%size\n",
    "    return strip_def\n",
    "\n",
    "def show_graph(graph_def, max_const_size=32):\n",
    "    \"\"\"Visualize TensorFlow graph.\"\"\"\n",
    "    if hasattr(graph_def, 'as_graph_def'):\n",
    "        graph_def = graph_def.as_graph_def()\n",
    "    strip_def = strip_consts(graph_def, max_const_size=max_const_size)\n",
    "    code = \"\"\"\n",
    "        <script>\n",
    "          function load() {{\n",
    "            document.getElementById(\"{id}\").pbtxt = {data};\n",
    "          }}\n",
    "        </script>\n",
    "        <link rel=\"import\" href=\"https://tensorboard.appspot.com/tf-graph-basic.build.html\" onload=load()>\n",
    "        <div style=\"height:600px\">\n",
    "          <tf-graph-basic id=\"{id}\"></tf-graph-basic>\n",
    "        </div>\n",
    "    \"\"\".format(data=repr(str(strip_def)), id='graph'+str(np.random.rand()))\n",
    "\n",
    "    iframe = \"\"\"\n",
    "        <iframe seamless style=\"width:1200px;height:620px;border:0\" srcdoc=\"{}\"></iframe>\n",
    "    \"\"\".format(code.replace('\"', '&quot;'))\n",
    "    display(HTML(iframe))"
   ]
  },
  {
   "cell_type": "code",
   "execution_count": null,
   "metadata": {
    "collapsed": true
   },
   "outputs": [],
   "source": [
    "show_graph(tf.get_default_graph())"
   ]
  },
  {
   "cell_type": "markdown",
   "metadata": {
    "collapsed": true
   },
   "source": [
    "## Fine-Tuning Neural Network Hyperparameters\n",
    "- randomized search\n",
    "- Oscar "
   ]
  },
  {
   "cell_type": "markdown",
   "metadata": {
    "collapsed": true
   },
   "source": [
    "### Number of Hidden Layers\n",
    "- 깊은 네트워크는 얕은 네트워크보다 파라미터 효율성이 훨씬 높다. 얕은 네트워크보다 지수 함수 적으로 더 적은 뉴런을 사용하여 복잡한 함수를 모델링 할 수 있으므로 학습이 훨씬 빨라졌습니다."
   ]
  },
  {
   "cell_type": "markdown",
   "metadata": {},
   "source": [
    "### Number of Neurons per Hidden Layer"
   ]
  },
  {
   "cell_type": "markdown",
   "metadata": {
    "collapsed": true
   },
   "source": [
    "### Activation Functions"
   ]
  },
  {
   "cell_type": "code",
   "execution_count": null,
   "metadata": {
    "collapsed": true
   },
   "outputs": [],
   "source": []
  },
  {
   "cell_type": "code",
   "execution_count": null,
   "metadata": {
    "collapsed": true
   },
   "outputs": [],
   "source": []
  },
  {
   "cell_type": "code",
   "execution_count": null,
   "metadata": {
    "collapsed": true
   },
   "outputs": [],
   "source": []
  },
  {
   "cell_type": "markdown",
   "metadata": {},
   "source": [
    "## Using dense() instead of neuron_layer()\n",
    "Note: the book uses tensorflow.contrib.layers.fully_connected() rather than tf.layers.dense() (which did not exist when this chapter was written). It is now preferable to use tf.layers.dense(), because anything in the contrib module may change or be deleted without notice. The dense() function is almost identical to the fully_connected() function, except for a few minor differences:\n",
    "several parameters are renamed: scope becomes name, activation_fn becomes activation (and similarly the _fn suffix is removed from other parameters such as normalizer_fn), weights_initializer becomes kernel_initializer, etc.\n",
    "the default activation is now None rather than tf.nn.relu.\n",
    "a few more differences are presented in chapter 11."
   ]
  },
  {
   "cell_type": "code",
   "execution_count": null,
   "metadata": {
    "collapsed": true
   },
   "outputs": [],
   "source": [
    "n_inputs = 28*28  # MNIST\n",
    "n_hidden1 = 300\n",
    "n_hidden2 = 100\n",
    "n_outputs = 10"
   ]
  },
  {
   "cell_type": "code",
   "execution_count": null,
   "metadata": {
    "collapsed": true
   },
   "outputs": [],
   "source": [
    "reset_graph()\n",
    "\n",
    "X = tf.placeholder(tf.float32, shape=(None, n_inputs), name=\"X\")\n",
    "y = tf.placeholder(tf.int64, shape=(None), name=\"y\")"
   ]
  },
  {
   "cell_type": "code",
   "execution_count": null,
   "metadata": {
    "collapsed": true
   },
   "outputs": [],
   "source": [
    "with tf.name_scope(\"dnn\"):\n",
    "    hidden1 = tf.layers.dense(X, n_hidden1, name=\"hidden1\",\n",
    "                              activation=tf.nn.relu)\n",
    "    hidden2 = tf.layers.dense(hidden1, n_hidden2, name=\"hidden2\",\n",
    "                              activation=tf.nn.relu)\n",
    "    logits = tf.layers.dense(hidden2, n_outputs, name=\"outputs\")"
   ]
  },
  {
   "cell_type": "code",
   "execution_count": null,
   "metadata": {
    "collapsed": true
   },
   "outputs": [],
   "source": [
    "with tf.name_scope(\"loss\"):\n",
    "    xentropy = tf.nn.sparse_softmax_cross_entropy_with_logits(labels=y, logits=logits)\n",
    "    loss = tf.reduce_mean(xentropy, name=\"loss\")"
   ]
  },
  {
   "cell_type": "code",
   "execution_count": null,
   "metadata": {
    "collapsed": true
   },
   "outputs": [],
   "source": [
    "learning_rate = 0.01\n",
    "\n",
    "with tf.name_scope(\"train\"):\n",
    "    optimizer = tf.train.GradientDescentOptimizer(learning_rate)\n",
    "    training_op = optimizer.minimize(loss)"
   ]
  },
  {
   "cell_type": "code",
   "execution_count": null,
   "metadata": {
    "collapsed": true
   },
   "outputs": [],
   "source": [
    "with tf.name_scope(\"eval\"):\n",
    "    correct = tf.nn.in_top_k(logits, y, 1)\n",
    "    accuracy = tf.reduce_mean(tf.cast(correct, tf.float32))"
   ]
  },
  {
   "cell_type": "code",
   "execution_count": null,
   "metadata": {
    "collapsed": true
   },
   "outputs": [],
   "source": [
    "init = tf.global_variables_initializer()\n",
    "saver = tf.train.Saver()"
   ]
  },
  {
   "cell_type": "code",
   "execution_count": null,
   "metadata": {
    "collapsed": true
   },
   "outputs": [],
   "source": [
    "n_epochs = 20\n",
    "n_batches = 50\n",
    "\n",
    "with tf.Session() as sess:\n",
    "    init.run()\n",
    "    for epoch in range(n_epochs):\n",
    "        for iteration in range(mnist.train.num_examples // batch_size):\n",
    "            X_batch, y_batch = mnist.train.next_batch(batch_size)\n",
    "            sess.run(training_op, feed_dict={X: X_batch, y: y_batch})\n",
    "        acc_train = accuracy.eval(feed_dict={X: X_batch, y: y_batch})\n",
    "        acc_test = accuracy.eval(feed_dict={X: mnist.test.images, y: mnist.test.labels})\n",
    "        print(epoch, \"Train accuracy:\", acc_train, \"Test accuracy:\", acc_test)\n",
    "\n",
    "    save_path = saver.save(sess, \"./my_model_final.ckpt\")"
   ]
  },
  {
   "cell_type": "code",
   "execution_count": null,
   "metadata": {
    "collapsed": true
   },
   "outputs": [],
   "source": [
    "show_graph(tf.get_default_graph())"
   ]
  }
 ],
 "metadata": {
  "kernelspec": {
   "display_name": "Python 3",
   "language": "python",
   "name": "python3"
  },
  "language_info": {
   "codemirror_mode": {
    "name": "ipython",
    "version": 3
   },
   "file_extension": ".py",
   "mimetype": "text/x-python",
   "name": "python",
   "nbconvert_exporter": "python",
   "pygments_lexer": "ipython3",
   "version": "3.6.1"
  }
 },
 "nbformat": 4,
 "nbformat_minor": 2
}
